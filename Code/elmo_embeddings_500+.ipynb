{
 "cells": [
  {
   "cell_type": "code",
   "execution_count": 1,
   "metadata": {},
   "outputs": [
    {
     "name": "stderr",
     "output_type": "stream",
     "text": [
      "/Users/nathanielschub/anaconda3/lib/python3.6/importlib/_bootstrap.py:219: RuntimeWarning: compiletime version 3.5 of module 'tensorflow.python.framework.fast_tensor_util' does not match runtime version 3.6\n",
      "  return f(*args, **kwds)\n",
      "/Users/nathanielschub/anaconda3/lib/python3.6/site-packages/h5py/__init__.py:36: FutureWarning: Conversion of the second argument of issubdtype from `float` to `np.floating` is deprecated. In future, it will be treated as `np.float64 == np.dtype(float).type`.\n",
      "  from ._conv import register_converters as _register_converters\n"
     ]
    }
   ],
   "source": [
    "%matplotlib inline\n",
    "import tensorflow as tf\n",
    "import tensorflow_hub as hub\n",
    "import matplotlib.pyplot as plt\n",
    "import numpy as np\n",
    "import pandas as pd\n",
    "from sklearn.manifold import TSNE\n",
    "from tensorflow.examples.tutorials.mnist import input_data\n",
    "from tensorflow.contrib.tensorboard.plugins import projector\n",
    "import os\n",
    "from scipy import spatial\n",
    "from collections import defaultdict\n",
    "tf.logging.set_verbosity(tf.logging.ERROR)\n",
    "import datetime\n",
    "import timeit \n"
   ]
  },
  {
   "cell_type": "code",
   "execution_count": 2,
   "metadata": {},
   "outputs": [],
   "source": [
    "elmo = hub.Module(\"https://tfhub.dev/google/elmo/2\", trainable=True)"
   ]
  },
  {
   "cell_type": "code",
   "execution_count": 5,
   "metadata": {},
   "outputs": [
    {
     "name": "stdout",
     "output_type": "stream",
     "text": [
      "/Users/nathanielschub/Desktop/MIDS/W266/smartThesaurus\n"
     ]
    }
   ],
   "source": [
    "#os.chdir('..')\n",
    "!pwd\n",
    "sent_1= pd.read_csv('Code/sentence_generator/output.txt', sep = ',', names = ['pair', 'word', 'sentence'])\n",
    "sent_2= pd.read_csv('Code/sentence_generator/output_2.txt', sep = ',', names = ['pair', 'word', 'sentence'])"
   ]
  },
  {
   "cell_type": "code",
   "execution_count": 11,
   "metadata": {},
   "outputs": [
    {
     "name": "stdout",
     "output_type": "stream",
     "text": [
      "5 : 22.4971685372293\n"
     ]
    }
   ],
   "source": [
    "distances = []       \n",
    "start = timeit.default_timer()\n",
    "for i in range(500, len(np.unique(sent_1.pair))+1):\n",
    "#for i in range(1, 500):\n",
    "    pair_no = i\n",
    "\n",
    "    sents_1= np.asarray(sent_1.loc[sent_1['pair'] == i].sentence)\n",
    "    word_1 = np.unique(sent_1.loc()[sent_1['pair'] == i].word)[0]\n",
    "    word_1_indices = []\n",
    "    for sent in sents_1:\n",
    "        x = sent.split()\n",
    "        word_1_indices.append(x.index(word_1))\n",
    "\n",
    "    sents_2 = np.asarray(sent_2.loc[sent_2['pair'] == i].sentence)\n",
    "    word_2 = np.unique(sent_2.loc()[sent_1['pair'] == i].word)[0]\n",
    "    word_2_indices = []\n",
    "    for sent in sents_2:\n",
    "        x = sent.split()\n",
    "        word_2_indices.append(x.index(word_2))\n",
    "\n",
    "\n",
    "    embeddings_1 = elmo(sents_1,\n",
    "    signature=\"default\",\n",
    "    as_dict=True)[\"elmo\"] \n",
    "\n",
    "    embeddings_2 = elmo(sents_2,\n",
    "    signature=\"default\",\n",
    "    as_dict=True)[\"elmo\"] \n",
    "\n",
    "    init = tf.initialize_all_variables()\n",
    "    sess = tf.Session()\n",
    "    sess.run(init)\n",
    "    embed_1 = sess.run(embeddings_1)\n",
    "    embed_2 = sess.run(embeddings_2)\n",
    "\n",
    "    target_embeddings_1 = []\n",
    "    for i in range(len(embed_1)):\n",
    "        target_embeddings_1.append(embed_1[i][word_1_indices[i]])\n",
    "        mean_embedding_1 = np.mean(np.asarray(target_embeddings_1), axis = 0)\n",
    "\n",
    "    target_embeddings_2 = []\n",
    "    for i in range(len(embed_2)):\n",
    "        target_embeddings_2.append(embed_2[i][word_2_indices[i]])\n",
    "        mean_embedding_2 = np.mean(np.asarray(target_embeddings_2), axis = 0)\n",
    "\n",
    "    distance = spatial.distance.cosine(mean_embedding_1, mean_embedding_2)\n",
    "    distances.append((pair_no, distance))\n",
    "\n",
    "    if pair_no%5==0:\n",
    "        current_time = timeit.default_timer()\n",
    "        delta = current_time - start\n",
    "        print(pair_no,':', delta)\n",
    "        \n"
   ]
  },
  {
   "cell_type": "code",
   "execution_count": 12,
   "metadata": {},
   "outputs": [
    {
     "name": "stdout",
     "output_type": "stream",
     "text": [
      "[(1, 0.25053220987319946), (2, 0.2510792016983032), (3, 0.508088618516922), (4, 0.342008113861084), (5, 0.5835147798061371), (6, 0.4221990704536438)]\n"
     ]
    }
   ],
   "source": [
    "print(distances)"
   ]
  },
  {
   "cell_type": "code",
   "execution_count": null,
   "metadata": {},
   "outputs": [],
   "source": []
  }
 ],
 "metadata": {
  "kernelspec": {
   "display_name": "Python 3",
   "language": "python",
   "name": "python3"
  },
  "language_info": {
   "codemirror_mode": {
    "name": "ipython",
    "version": 3
   },
   "file_extension": ".py",
   "mimetype": "text/x-python",
   "name": "python",
   "nbconvert_exporter": "python",
   "pygments_lexer": "ipython3",
   "version": "3.6.5"
  }
 },
 "nbformat": 4,
 "nbformat_minor": 2
}
