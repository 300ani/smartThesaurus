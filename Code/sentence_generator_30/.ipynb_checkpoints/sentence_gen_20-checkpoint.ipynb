{
 "cells": [
  {
   "cell_type": "code",
   "execution_count": 8,
   "metadata": {
    "collapsed": true
   },
   "outputs": [],
   "source": [
    "import requests\n",
    "import re\n",
    "import os \n",
    "import logging\n",
    "import csv\n",
    "\n",
    "root = logging.getLogger()\n",
    "root.setLevel(logging.DEBUG)\n",
    "root.addHandler(logging.StreamHandler(os.fdopen(1, \"w\")))"
   ]
  },
  {
   "cell_type": "code",
   "execution_count": 9,
   "metadata": {
    "collapsed": true
   },
   "outputs": [],
   "source": [
    "def sentence_gen(word_list, output_file):\n",
    "    url_pre = 'https://endic.naver.com/search_example.nhn?sLn=kr&query='\n",
    "    url_pro = '&preQuery=&searchOption=example&examType=example&forceRedirect=N'\n",
    "    \n",
    "    url_page_2_pre = 'https://endic.naver.com/search_example.nhn?sLn=kr&query='\n",
    "    url_page_2_pro = '&preQuery=&searchOption=example&examType=example&forceRedirect=N&pageNo=2'\n",
    "\n",
    "    parse_text = '<input name=\"\" type=\"hidden\" value=\"'\n",
    "    parse_text_start = 'value=\"'\n",
    "    parse_text_end = '\">'\n",
    "\n",
    "    idx = 1\n",
    "    text_file = open(output_file, \"w\")\n",
    "    for words in word_list:\n",
    "        url = url_pre+words+url_pro\n",
    "        url_page_2 = url_page_2_pre+words+url_page_2_pro\n",
    "        \n",
    "        response = requests.post(url)\n",
    "        response_page_2 = requests.post(url_page_2)\n",
    "        \n",
    "        example_text = response.text\n",
    "        example_text_page_2 = response_page_2.text\n",
    "\n",
    "        parsed_text = example_text[example_text.find(parse_text)+len(parse_text):]\n",
    "        parsed_text_page_2 = example_text_page_2[example_text_page_2.find(parse_text)+len(parse_text):]\n",
    "        \n",
    "        parsed_text = parsed_text + parsed_text_page_2\n",
    "\n",
    "        if words in ('ray', 'self'):\n",
    "            parsed_text = parsed_text.replace('-',' ')\n",
    "\n",
    "        cnt=0\n",
    "        pass_cnt = 0\n",
    "        no_special = ''\n",
    "        while cnt < 30:\n",
    "            parsed_sentence = parsed_text[:parsed_text.find(parse_text_end)].lower()\n",
    "            parsed_sentence = re.sub(r'\\d', 'DG', parsed_sentence)\n",
    "            parsed_text = parsed_text[parsed_text.find(parse_text)+len(parse_text):]\n",
    "\n",
    "            split_parsed = re.sub('[.,!?]', '', parsed_sentence).lower().split()\n",
    "\n",
    "            if pass_cnt > 50:\n",
    "                text_file.write(str(idx)+','+words+','+no_special+'\\n')\n",
    "                cnt += 1\n",
    "\n",
    "            if ('[' in parsed_sentence \n",
    "                or '(' in parsed_sentence \n",
    "                or '-' in parsed_sentence\n",
    "                or words.lower() not in split_parsed\n",
    "                or bool(re.search(r'\\d', parsed_sentence))):\n",
    "                logging.debug('pass : '+ words + ' :' +str(idx)+'--'+str(cnt)+' : '+parsed_sentence)\n",
    "                pass_cnt += 1\n",
    "            else:\n",
    "                no_special = re.sub('[^a-zA-Z ]', '', parsed_sentence).lower()\n",
    "                text_file.write(str(idx)+','+words+','+no_special+'\\n')\n",
    "                cnt += 1\n",
    "                logging.debug('add : '+ words +str(idx)+'--'+str(cnt)+' : '+no_special)\n",
    "        print('.', end=''),\n",
    "\n",
    "        idx += 1\n",
    "    text_file.close()\n",
    "    print(output_file, \" : \", \"Finished!\")"
   ]
  },
  {
   "cell_type": "code",
   "execution_count": 10,
   "metadata": {},
   "outputs": [
    {
     "name": "stdout",
     "output_type": "stream",
     "text": [
      ".......................................................................................................................................................................................................................................................................................................................................................................................................................................................................................................................................................................................................................................................................................................................................................................................................................................................................................................................................................................................................................................simlex999_30_1.txt  :  Finished!\n",
      "..................................................................................................................................................................................................................................................................................................................................................................................................................................................................................................................................................................................................................................................................................................................."
     ]
    },
    {
     "ename": "ConnectionError",
     "evalue": "HTTPSConnectionPool(host='endic.naver.com', port=443): Max retries exceeded with url: /search_example.nhn?sLn=kr&query=owe&preQuery=&searchOption=example&examType=example&forceRedirect=N (Caused by NewConnectionError('<requests.packages.urllib3.connection.VerifiedHTTPSConnection object at 0x10fa71860>: Failed to establish a new connection: [Errno 60] Operation timed out',))",
     "output_type": "error",
     "traceback": [
      "\u001b[0;31m---------------------------------------------------------------------------\u001b[0m",
      "\u001b[0;31mTimeoutError\u001b[0m                              Traceback (most recent call last)",
      "\u001b[0;32m/Users/jeylee/anaconda/lib/python3.6/site-packages/requests/packages/urllib3/connection.py\u001b[0m in \u001b[0;36m_new_conn\u001b[0;34m(self)\u001b[0m\n\u001b[1;32m    140\u001b[0m             conn = connection.create_connection(\n\u001b[0;32m--> 141\u001b[0;31m                 (self.host, self.port), self.timeout, **extra_kw)\n\u001b[0m\u001b[1;32m    142\u001b[0m \u001b[0;34m\u001b[0m\u001b[0m\n",
      "\u001b[0;32m/Users/jeylee/anaconda/lib/python3.6/site-packages/requests/packages/urllib3/util/connection.py\u001b[0m in \u001b[0;36mcreate_connection\u001b[0;34m(address, timeout, source_address, socket_options)\u001b[0m\n\u001b[1;32m     82\u001b[0m     \u001b[0;32mif\u001b[0m \u001b[0merr\u001b[0m \u001b[0;32mis\u001b[0m \u001b[0;32mnot\u001b[0m \u001b[0;32mNone\u001b[0m\u001b[0;34m:\u001b[0m\u001b[0;34m\u001b[0m\u001b[0m\n\u001b[0;32m---> 83\u001b[0;31m         \u001b[0;32mraise\u001b[0m \u001b[0merr\u001b[0m\u001b[0;34m\u001b[0m\u001b[0m\n\u001b[0m\u001b[1;32m     84\u001b[0m \u001b[0;34m\u001b[0m\u001b[0m\n",
      "\u001b[0;32m/Users/jeylee/anaconda/lib/python3.6/site-packages/requests/packages/urllib3/util/connection.py\u001b[0m in \u001b[0;36mcreate_connection\u001b[0;34m(address, timeout, source_address, socket_options)\u001b[0m\n\u001b[1;32m     72\u001b[0m                 \u001b[0msock\u001b[0m\u001b[0;34m.\u001b[0m\u001b[0mbind\u001b[0m\u001b[0;34m(\u001b[0m\u001b[0msource_address\u001b[0m\u001b[0;34m)\u001b[0m\u001b[0;34m\u001b[0m\u001b[0m\n\u001b[0;32m---> 73\u001b[0;31m             \u001b[0msock\u001b[0m\u001b[0;34m.\u001b[0m\u001b[0mconnect\u001b[0m\u001b[0;34m(\u001b[0m\u001b[0msa\u001b[0m\u001b[0;34m)\u001b[0m\u001b[0;34m\u001b[0m\u001b[0m\n\u001b[0m\u001b[1;32m     74\u001b[0m             \u001b[0;32mreturn\u001b[0m \u001b[0msock\u001b[0m\u001b[0;34m\u001b[0m\u001b[0m\n",
      "\u001b[0;31mTimeoutError\u001b[0m: [Errno 60] Operation timed out",
      "\nDuring handling of the above exception, another exception occurred:\n",
      "\u001b[0;31mNewConnectionError\u001b[0m                        Traceback (most recent call last)",
      "\u001b[0;32m/Users/jeylee/anaconda/lib/python3.6/site-packages/requests/packages/urllib3/connectionpool.py\u001b[0m in \u001b[0;36murlopen\u001b[0;34m(self, method, url, body, headers, retries, redirect, assert_same_host, timeout, pool_timeout, release_conn, chunked, body_pos, **response_kw)\u001b[0m\n\u001b[1;32m    599\u001b[0m                                                   \u001b[0mbody\u001b[0m\u001b[0;34m=\u001b[0m\u001b[0mbody\u001b[0m\u001b[0;34m,\u001b[0m \u001b[0mheaders\u001b[0m\u001b[0;34m=\u001b[0m\u001b[0mheaders\u001b[0m\u001b[0;34m,\u001b[0m\u001b[0;34m\u001b[0m\u001b[0m\n\u001b[0;32m--> 600\u001b[0;31m                                                   chunked=chunked)\n\u001b[0m\u001b[1;32m    601\u001b[0m \u001b[0;34m\u001b[0m\u001b[0m\n",
      "\u001b[0;32m/Users/jeylee/anaconda/lib/python3.6/site-packages/requests/packages/urllib3/connectionpool.py\u001b[0m in \u001b[0;36m_make_request\u001b[0;34m(self, conn, method, url, timeout, chunked, **httplib_request_kw)\u001b[0m\n\u001b[1;32m    344\u001b[0m         \u001b[0;32mtry\u001b[0m\u001b[0;34m:\u001b[0m\u001b[0;34m\u001b[0m\u001b[0m\n\u001b[0;32m--> 345\u001b[0;31m             \u001b[0mself\u001b[0m\u001b[0;34m.\u001b[0m\u001b[0m_validate_conn\u001b[0m\u001b[0;34m(\u001b[0m\u001b[0mconn\u001b[0m\u001b[0;34m)\u001b[0m\u001b[0;34m\u001b[0m\u001b[0m\n\u001b[0m\u001b[1;32m    346\u001b[0m         \u001b[0;32mexcept\u001b[0m \u001b[0;34m(\u001b[0m\u001b[0mSocketTimeout\u001b[0m\u001b[0;34m,\u001b[0m \u001b[0mBaseSSLError\u001b[0m\u001b[0;34m)\u001b[0m \u001b[0;32mas\u001b[0m \u001b[0me\u001b[0m\u001b[0;34m:\u001b[0m\u001b[0;34m\u001b[0m\u001b[0m\n",
      "\u001b[0;32m/Users/jeylee/anaconda/lib/python3.6/site-packages/requests/packages/urllib3/connectionpool.py\u001b[0m in \u001b[0;36m_validate_conn\u001b[0;34m(self, conn)\u001b[0m\n\u001b[1;32m    843\u001b[0m         \u001b[0;32mif\u001b[0m \u001b[0;32mnot\u001b[0m \u001b[0mgetattr\u001b[0m\u001b[0;34m(\u001b[0m\u001b[0mconn\u001b[0m\u001b[0;34m,\u001b[0m \u001b[0;34m'sock'\u001b[0m\u001b[0;34m,\u001b[0m \u001b[0;32mNone\u001b[0m\u001b[0;34m)\u001b[0m\u001b[0;34m:\u001b[0m  \u001b[0;31m# AppEngine might not have  `.sock`\u001b[0m\u001b[0;34m\u001b[0m\u001b[0m\n\u001b[0;32m--> 844\u001b[0;31m             \u001b[0mconn\u001b[0m\u001b[0;34m.\u001b[0m\u001b[0mconnect\u001b[0m\u001b[0;34m(\u001b[0m\u001b[0;34m)\u001b[0m\u001b[0;34m\u001b[0m\u001b[0m\n\u001b[0m\u001b[1;32m    845\u001b[0m \u001b[0;34m\u001b[0m\u001b[0m\n",
      "\u001b[0;32m/Users/jeylee/anaconda/lib/python3.6/site-packages/requests/packages/urllib3/connection.py\u001b[0m in \u001b[0;36mconnect\u001b[0;34m(self)\u001b[0m\n\u001b[1;32m    283\u001b[0m         \u001b[0;31m# Add certificate verification\u001b[0m\u001b[0;34m\u001b[0m\u001b[0;34m\u001b[0m\u001b[0m\n\u001b[0;32m--> 284\u001b[0;31m         \u001b[0mconn\u001b[0m \u001b[0;34m=\u001b[0m \u001b[0mself\u001b[0m\u001b[0;34m.\u001b[0m\u001b[0m_new_conn\u001b[0m\u001b[0;34m(\u001b[0m\u001b[0;34m)\u001b[0m\u001b[0;34m\u001b[0m\u001b[0m\n\u001b[0m\u001b[1;32m    285\u001b[0m \u001b[0;34m\u001b[0m\u001b[0m\n",
      "\u001b[0;32m/Users/jeylee/anaconda/lib/python3.6/site-packages/requests/packages/urllib3/connection.py\u001b[0m in \u001b[0;36m_new_conn\u001b[0;34m(self)\u001b[0m\n\u001b[1;32m    149\u001b[0m             raise NewConnectionError(\n\u001b[0;32m--> 150\u001b[0;31m                 self, \"Failed to establish a new connection: %s\" % e)\n\u001b[0m\u001b[1;32m    151\u001b[0m \u001b[0;34m\u001b[0m\u001b[0m\n",
      "\u001b[0;31mNewConnectionError\u001b[0m: <requests.packages.urllib3.connection.VerifiedHTTPSConnection object at 0x10fa71860>: Failed to establish a new connection: [Errno 60] Operation timed out",
      "\nDuring handling of the above exception, another exception occurred:\n",
      "\u001b[0;31mMaxRetryError\u001b[0m                             Traceback (most recent call last)",
      "\u001b[0;32m/Users/jeylee/anaconda/lib/python3.6/site-packages/requests/adapters.py\u001b[0m in \u001b[0;36msend\u001b[0;34m(self, request, stream, timeout, verify, cert, proxies)\u001b[0m\n\u001b[1;32m    437\u001b[0m                     \u001b[0mretries\u001b[0m\u001b[0;34m=\u001b[0m\u001b[0mself\u001b[0m\u001b[0;34m.\u001b[0m\u001b[0mmax_retries\u001b[0m\u001b[0;34m,\u001b[0m\u001b[0;34m\u001b[0m\u001b[0m\n\u001b[0;32m--> 438\u001b[0;31m                     \u001b[0mtimeout\u001b[0m\u001b[0;34m=\u001b[0m\u001b[0mtimeout\u001b[0m\u001b[0;34m\u001b[0m\u001b[0m\n\u001b[0m\u001b[1;32m    439\u001b[0m                 )\n",
      "\u001b[0;32m/Users/jeylee/anaconda/lib/python3.6/site-packages/requests/packages/urllib3/connectionpool.py\u001b[0m in \u001b[0;36murlopen\u001b[0;34m(self, method, url, body, headers, retries, redirect, assert_same_host, timeout, pool_timeout, release_conn, chunked, body_pos, **response_kw)\u001b[0m\n\u001b[1;32m    648\u001b[0m             retries = retries.increment(method, url, error=e, _pool=self,\n\u001b[0;32m--> 649\u001b[0;31m                                         _stacktrace=sys.exc_info()[2])\n\u001b[0m\u001b[1;32m    650\u001b[0m             \u001b[0mretries\u001b[0m\u001b[0;34m.\u001b[0m\u001b[0msleep\u001b[0m\u001b[0;34m(\u001b[0m\u001b[0;34m)\u001b[0m\u001b[0;34m\u001b[0m\u001b[0m\n",
      "\u001b[0;32m/Users/jeylee/anaconda/lib/python3.6/site-packages/requests/packages/urllib3/util/retry.py\u001b[0m in \u001b[0;36mincrement\u001b[0;34m(self, method, url, response, error, _pool, _stacktrace)\u001b[0m\n\u001b[1;32m    387\u001b[0m         \u001b[0;32mif\u001b[0m \u001b[0mnew_retry\u001b[0m\u001b[0;34m.\u001b[0m\u001b[0mis_exhausted\u001b[0m\u001b[0;34m(\u001b[0m\u001b[0;34m)\u001b[0m\u001b[0;34m:\u001b[0m\u001b[0;34m\u001b[0m\u001b[0m\n\u001b[0;32m--> 388\u001b[0;31m             \u001b[0;32mraise\u001b[0m \u001b[0mMaxRetryError\u001b[0m\u001b[0;34m(\u001b[0m\u001b[0m_pool\u001b[0m\u001b[0;34m,\u001b[0m \u001b[0murl\u001b[0m\u001b[0;34m,\u001b[0m \u001b[0merror\u001b[0m \u001b[0;32mor\u001b[0m \u001b[0mResponseError\u001b[0m\u001b[0;34m(\u001b[0m\u001b[0mcause\u001b[0m\u001b[0;34m)\u001b[0m\u001b[0;34m)\u001b[0m\u001b[0;34m\u001b[0m\u001b[0m\n\u001b[0m\u001b[1;32m    389\u001b[0m \u001b[0;34m\u001b[0m\u001b[0m\n",
      "\u001b[0;31mMaxRetryError\u001b[0m: HTTPSConnectionPool(host='endic.naver.com', port=443): Max retries exceeded with url: /search_example.nhn?sLn=kr&query=owe&preQuery=&searchOption=example&examType=example&forceRedirect=N (Caused by NewConnectionError('<requests.packages.urllib3.connection.VerifiedHTTPSConnection object at 0x10fa71860>: Failed to establish a new connection: [Errno 60] Operation timed out',))",
      "\nDuring handling of the above exception, another exception occurred:\n",
      "\u001b[0;31mConnectionError\u001b[0m                           Traceback (most recent call last)",
      "\u001b[0;32m<ipython-input-10-2908a0a2a056>\u001b[0m in \u001b[0;36m<module>\u001b[0;34m()\u001b[0m\n\u001b[1;32m      4\u001b[0m \u001b[0;34m\u001b[0m\u001b[0m\n\u001b[1;32m      5\u001b[0m \u001b[0msentence_gen\u001b[0m\u001b[0;34m(\u001b[0m\u001b[0msimlex999_words\u001b[0m\u001b[0;34m,\u001b[0m \u001b[0;34m'simlex999_30_1.txt'\u001b[0m\u001b[0;34m)\u001b[0m\u001b[0;34m\u001b[0m\u001b[0m\n\u001b[0;32m----> 6\u001b[0;31m \u001b[0msentence_gen\u001b[0m\u001b[0;34m(\u001b[0m\u001b[0msimlex999_words_2\u001b[0m\u001b[0;34m,\u001b[0m \u001b[0;34m'simlex999_30_2.txt'\u001b[0m\u001b[0;34m)\u001b[0m\u001b[0;34m\u001b[0m\u001b[0m\n\u001b[0m",
      "\u001b[0;32m<ipython-input-9-b1498432d09a>\u001b[0m in \u001b[0;36msentence_gen\u001b[0;34m(word_list, output_file)\u001b[0m\n\u001b[1;32m     16\u001b[0m         \u001b[0murl_page_2\u001b[0m \u001b[0;34m=\u001b[0m \u001b[0murl_page_2_pre\u001b[0m\u001b[0;34m+\u001b[0m\u001b[0mwords\u001b[0m\u001b[0;34m+\u001b[0m\u001b[0murl_page_2_pro\u001b[0m\u001b[0;34m\u001b[0m\u001b[0m\n\u001b[1;32m     17\u001b[0m \u001b[0;34m\u001b[0m\u001b[0m\n\u001b[0;32m---> 18\u001b[0;31m         \u001b[0mresponse\u001b[0m \u001b[0;34m=\u001b[0m \u001b[0mrequests\u001b[0m\u001b[0;34m.\u001b[0m\u001b[0mpost\u001b[0m\u001b[0;34m(\u001b[0m\u001b[0murl\u001b[0m\u001b[0;34m)\u001b[0m\u001b[0;34m\u001b[0m\u001b[0m\n\u001b[0m\u001b[1;32m     19\u001b[0m         \u001b[0mresponse_page_2\u001b[0m \u001b[0;34m=\u001b[0m \u001b[0mrequests\u001b[0m\u001b[0;34m.\u001b[0m\u001b[0mpost\u001b[0m\u001b[0;34m(\u001b[0m\u001b[0murl_page_2\u001b[0m\u001b[0;34m)\u001b[0m\u001b[0;34m\u001b[0m\u001b[0m\n\u001b[1;32m     20\u001b[0m \u001b[0;34m\u001b[0m\u001b[0m\n",
      "\u001b[0;32m/Users/jeylee/anaconda/lib/python3.6/site-packages/requests/api.py\u001b[0m in \u001b[0;36mpost\u001b[0;34m(url, data, json, **kwargs)\u001b[0m\n\u001b[1;32m    110\u001b[0m     \"\"\"\n\u001b[1;32m    111\u001b[0m \u001b[0;34m\u001b[0m\u001b[0m\n\u001b[0;32m--> 112\u001b[0;31m     \u001b[0;32mreturn\u001b[0m \u001b[0mrequest\u001b[0m\u001b[0;34m(\u001b[0m\u001b[0;34m'post'\u001b[0m\u001b[0;34m,\u001b[0m \u001b[0murl\u001b[0m\u001b[0;34m,\u001b[0m \u001b[0mdata\u001b[0m\u001b[0;34m=\u001b[0m\u001b[0mdata\u001b[0m\u001b[0;34m,\u001b[0m \u001b[0mjson\u001b[0m\u001b[0;34m=\u001b[0m\u001b[0mjson\u001b[0m\u001b[0;34m,\u001b[0m \u001b[0;34m**\u001b[0m\u001b[0mkwargs\u001b[0m\u001b[0;34m)\u001b[0m\u001b[0;34m\u001b[0m\u001b[0m\n\u001b[0m\u001b[1;32m    113\u001b[0m \u001b[0;34m\u001b[0m\u001b[0m\n\u001b[1;32m    114\u001b[0m \u001b[0;34m\u001b[0m\u001b[0m\n",
      "\u001b[0;32m/Users/jeylee/anaconda/lib/python3.6/site-packages/requests/api.py\u001b[0m in \u001b[0;36mrequest\u001b[0;34m(method, url, **kwargs)\u001b[0m\n\u001b[1;32m     56\u001b[0m     \u001b[0;31m# cases, and look like a memory leak in others.\u001b[0m\u001b[0;34m\u001b[0m\u001b[0;34m\u001b[0m\u001b[0m\n\u001b[1;32m     57\u001b[0m     \u001b[0;32mwith\u001b[0m \u001b[0msessions\u001b[0m\u001b[0;34m.\u001b[0m\u001b[0mSession\u001b[0m\u001b[0;34m(\u001b[0m\u001b[0;34m)\u001b[0m \u001b[0;32mas\u001b[0m \u001b[0msession\u001b[0m\u001b[0;34m:\u001b[0m\u001b[0;34m\u001b[0m\u001b[0m\n\u001b[0;32m---> 58\u001b[0;31m         \u001b[0;32mreturn\u001b[0m \u001b[0msession\u001b[0m\u001b[0;34m.\u001b[0m\u001b[0mrequest\u001b[0m\u001b[0;34m(\u001b[0m\u001b[0mmethod\u001b[0m\u001b[0;34m=\u001b[0m\u001b[0mmethod\u001b[0m\u001b[0;34m,\u001b[0m \u001b[0murl\u001b[0m\u001b[0;34m=\u001b[0m\u001b[0murl\u001b[0m\u001b[0;34m,\u001b[0m \u001b[0;34m**\u001b[0m\u001b[0mkwargs\u001b[0m\u001b[0;34m)\u001b[0m\u001b[0;34m\u001b[0m\u001b[0m\n\u001b[0m\u001b[1;32m     59\u001b[0m \u001b[0;34m\u001b[0m\u001b[0m\n\u001b[1;32m     60\u001b[0m \u001b[0;34m\u001b[0m\u001b[0m\n",
      "\u001b[0;32m/Users/jeylee/anaconda/lib/python3.6/site-packages/requests/sessions.py\u001b[0m in \u001b[0;36mrequest\u001b[0;34m(self, method, url, params, data, headers, cookies, files, auth, timeout, allow_redirects, proxies, hooks, stream, verify, cert, json)\u001b[0m\n\u001b[1;32m    516\u001b[0m         }\n\u001b[1;32m    517\u001b[0m         \u001b[0msend_kwargs\u001b[0m\u001b[0;34m.\u001b[0m\u001b[0mupdate\u001b[0m\u001b[0;34m(\u001b[0m\u001b[0msettings\u001b[0m\u001b[0;34m)\u001b[0m\u001b[0;34m\u001b[0m\u001b[0m\n\u001b[0;32m--> 518\u001b[0;31m         \u001b[0mresp\u001b[0m \u001b[0;34m=\u001b[0m \u001b[0mself\u001b[0m\u001b[0;34m.\u001b[0m\u001b[0msend\u001b[0m\u001b[0;34m(\u001b[0m\u001b[0mprep\u001b[0m\u001b[0;34m,\u001b[0m \u001b[0;34m**\u001b[0m\u001b[0msend_kwargs\u001b[0m\u001b[0;34m)\u001b[0m\u001b[0;34m\u001b[0m\u001b[0m\n\u001b[0m\u001b[1;32m    519\u001b[0m \u001b[0;34m\u001b[0m\u001b[0m\n\u001b[1;32m    520\u001b[0m         \u001b[0;32mreturn\u001b[0m \u001b[0mresp\u001b[0m\u001b[0;34m\u001b[0m\u001b[0m\n",
      "\u001b[0;32m/Users/jeylee/anaconda/lib/python3.6/site-packages/requests/sessions.py\u001b[0m in \u001b[0;36msend\u001b[0;34m(self, request, **kwargs)\u001b[0m\n\u001b[1;32m    637\u001b[0m \u001b[0;34m\u001b[0m\u001b[0m\n\u001b[1;32m    638\u001b[0m         \u001b[0;31m# Send the request\u001b[0m\u001b[0;34m\u001b[0m\u001b[0;34m\u001b[0m\u001b[0m\n\u001b[0;32m--> 639\u001b[0;31m         \u001b[0mr\u001b[0m \u001b[0;34m=\u001b[0m \u001b[0madapter\u001b[0m\u001b[0;34m.\u001b[0m\u001b[0msend\u001b[0m\u001b[0;34m(\u001b[0m\u001b[0mrequest\u001b[0m\u001b[0;34m,\u001b[0m \u001b[0;34m**\u001b[0m\u001b[0mkwargs\u001b[0m\u001b[0;34m)\u001b[0m\u001b[0;34m\u001b[0m\u001b[0m\n\u001b[0m\u001b[1;32m    640\u001b[0m \u001b[0;34m\u001b[0m\u001b[0m\n\u001b[1;32m    641\u001b[0m         \u001b[0;31m# Total elapsed time of the request (approximately)\u001b[0m\u001b[0;34m\u001b[0m\u001b[0;34m\u001b[0m\u001b[0m\n",
      "\u001b[0;32m/Users/jeylee/anaconda/lib/python3.6/site-packages/requests/adapters.py\u001b[0m in \u001b[0;36msend\u001b[0;34m(self, request, stream, timeout, verify, cert, proxies)\u001b[0m\n\u001b[1;32m    500\u001b[0m                 \u001b[0;32mraise\u001b[0m \u001b[0mProxyError\u001b[0m\u001b[0;34m(\u001b[0m\u001b[0me\u001b[0m\u001b[0;34m,\u001b[0m \u001b[0mrequest\u001b[0m\u001b[0;34m=\u001b[0m\u001b[0mrequest\u001b[0m\u001b[0;34m)\u001b[0m\u001b[0;34m\u001b[0m\u001b[0m\n\u001b[1;32m    501\u001b[0m \u001b[0;34m\u001b[0m\u001b[0m\n\u001b[0;32m--> 502\u001b[0;31m             \u001b[0;32mraise\u001b[0m \u001b[0mConnectionError\u001b[0m\u001b[0;34m(\u001b[0m\u001b[0me\u001b[0m\u001b[0;34m,\u001b[0m \u001b[0mrequest\u001b[0m\u001b[0;34m=\u001b[0m\u001b[0mrequest\u001b[0m\u001b[0;34m)\u001b[0m\u001b[0;34m\u001b[0m\u001b[0m\n\u001b[0m\u001b[1;32m    503\u001b[0m \u001b[0;34m\u001b[0m\u001b[0m\n\u001b[1;32m    504\u001b[0m         \u001b[0;32mexcept\u001b[0m \u001b[0mClosedPoolError\u001b[0m \u001b[0;32mas\u001b[0m \u001b[0me\u001b[0m\u001b[0;34m:\u001b[0m\u001b[0;34m\u001b[0m\u001b[0m\n",
      "\u001b[0;31mConnectionError\u001b[0m: HTTPSConnectionPool(host='endic.naver.com', port=443): Max retries exceeded with url: /search_example.nhn?sLn=kr&query=owe&preQuery=&searchOption=example&examType=example&forceRedirect=N (Caused by NewConnectionError('<requests.packages.urllib3.connection.VerifiedHTTPSConnection object at 0x10fa71860>: Failed to establish a new connection: [Errno 60] Operation timed out',))"
     ]
    }
   ],
   "source": [
    "\n",
    "simlex999_words = ['childish','child','child','author','author','book','book','book','book','book','book','book','book','book','dictionary','want','champion','air','victory','exit','bath','bath','bath','roam','crucial','essential','winner','winner','winner','car','car','car','car','car','car','car','car','car','car','disappear','arm','arm','arm','arm','arm','arm','arm','arm','sick','exotic','fragile','restless','illegal','stupid','sad','sad','rough','wisdom','comprehend','student','student','simple','dumb','dumb','dumb','dumb','dumb','day','day','pipe','fact','honest','belief','belief','belief','belief','confidence','succeed','succeed','journey','journey','explore','business','business','hard','hard','hard','hard','hard','finger','absence','date','wood','wood','attention','attention','narrow','word','word','word','word','word','muscle','muscle','storm','inform','cab','assignment','discuss','discussion','speak','speak','story','replace','enjoy','participate','borrow','borrow','borrow','steal','nail','nail','lover','certain','agony','pain','log','log','pupil','anatomy','river','river','river','bizarre','weird','weird','weird','belly','rod','root','endurance','endurance','remain','politician','mood','condition','declare','say','say','begin','begin','begin','groom','wife','wife','ball','ball','ball','ball','wide','noise','army','army','absorb','absorb','absorb','nose','tiny','kill','kill','kill','kill','head','circumstance','easy','easy','easy','easy','illness','beach','beach','beach','beach','vessel','harsh','formal','appointment','apparent','chapter','chapter','afraid','read','moon','greet','unhappy','king','prince','princess','destroy','destroy','destruction','course','cabin','sly','sly','sly','cliff','street','street','wealth','wealth','wealth','save','withdraw','hymn','hymn','area','area','area','advise','accept','accept','accept','accept','accept','accept','accept','reject','argument','argument','logic','accomplish','choice','rain','anger','anger','fast','argue','argue','argue','argue','argue','bar','bar','heroine','make','make','make','jail','code','leader','keep','keep','keep','keep','assume','assume','bias','strong','purse','jar','job','situation','lake','abundance','happy','happy','happy','happy','happy','delightful','delightful','nice','nice','portray','portray','plate','arrange','arrange','put','choose','body','body','body','body','body','doctor','doctor','doctor','telephone','people','people','people','people','actor','do','do','give','give','give','give','give','give','give','mountain','top','spend','ignore','ignore','ignore','gut','game','game','game','aisle','aisle','alley','celebration','wall','wall','atom','molecule','molecule','engage','limb','hand','hand','hand','couple','adversary','attitude','door','door','door','door','door','door','crime','crime','crime','strange','strange','sea','noticeable','idea','idea','north','racket','sunset','sunset','paper','recent','forget','forget','forget','forget','denial','necessary','require','horse','horse','horse','crowd','crowd','cup','cup','go','go','go','go','go','hill','second','new','new','modest','modest','cloud','cloud','cloud','cloud','cloud','strength','strength','formula','formula','way','letter','deserve','dinner','dinner','dinner','learn','learn','target','polite','style','administration','guy','guy','guy','brother','brother','man','man','man','man','man','man','man','creator','explain','decide','insane','oil','bottom','bottom','nurse','appear','laden','water','water','mouth','mouth','leg','blood','blood','biography','reduce','lawyer','captain','anarchy','big','big','great','tongue','woman','woman','woman','woman','boy','boy','boy','boy','boy','ignorance','protect','sharp','trick','elbow','remind','remind','task','task','task','task','danger','danger','island','intelligence','intelligence','intelligence','teacher','teacher','teacher','encourage','mad','ask','ask','breathe','population','multiply','multiply','scarce','cheek','value','beg','reflection','vision','disease','gossip','dog','dog','aggression','house','house','house','house','container','sky','trial','listen','listen','chief','know','know','bad','bad','bad','bad','bad','bad','difficult','hound','occur','cancer','adult','adult','floor','floor','take','take','take','take','take','take','take','sorrow','seed','monster','expand','acquire','acquire','acquire','receive','lady','collect','boundary','hysteria','bread','bread','diet','diet','meat','meat','meat','page','elastic','navy','apartment','apartment','gun','gun','gun','gun','gun','discover','complain','locate','dirty','dirty','movie','battle','bring','bring','bring','mother','mother','girl','girl','cat','cat','cat','pretend','pretend','pretend','emotion','article','bird','bird','bird','bold','parent','quick','sense','reality','reality','eye','phrase','milk','clarify','forgive','fever','terrific','wonderful','wonderful','inspect','investigate','investigate','proof','band','band','join','join','join','huge','pursue','worker','worker','worker','heart','long','comfort','world','death','death','death','home','evening','dreary','physician','different','send','send','find','science','vanish','mud','size','despair','leave','leave','leave','leave','leave','leave','joy','please','please','god','god','god','god','overcome','depth','action','shrink','deck','conclude','night','night','night','father','father','father','father','loop','modern','mob','impatient','animal','accident','accident','cattle','shelter','add','add','sofa','right','imitate','vehicle','carry','compare','satisfy','pollution','pollution','box','box','box','box','pot','communicate','communication','communication','communication','contemplate','gather','gather','agree','agree','agree','understand','understand','understand','fraternity','fraternity','friend','friend','friend','friend','friend','enter','become','become','arrive','arrive','tower','clothes','clothes','clothes','clothes','clothes','clothes','clothes','cherish','priest','baby','smart','smart','verify','inexpensive','fee','fee','tax','room','room','room','confident','hole','hole','create','create','create','create','money','money','money','money','marijuana','camp','cottage','corporation','insect','violent','deliver','short','nerve','employer','dull','organ','flower','flower','flower','flower','menu','large','large','large','curve','stomach','stomach','stomach','think','think','think','opinion','opinion','presence','bed','bed','bed','bed','bed','bed','bed','realize','get','get','get','rhythm','shoulder','ray','shore','win','win','win','fail','attend','owe','lose','lose','lose','bowl','song','medium','beauty','beautiful','effort','try','club','helper','appoint','guilty','organize','come','come','machine','plead','proclaim','beast','fun','friendly','liquor','liquor','bubble','goal','pact','pact','old','old','era','attach','determine','plane','plane','acknowledge','fresh','activity','behave','achieve','achieve','achieve','school','school','capability','competence','actress','alcohol','alcohol','alcohol','alcohol','alcohol','analyze','ankle','apple','apple','apple','apple','apple','archbishop','arithmetic','attorney','august','aunt','aviation','bacon','ballad','basketball','bathroom','bathroom','bean','bee','bee','beer','beer','beer','bell','bible','bicycle','birthday','birthday','boat','boat','boat','bone','bone','bone','bone','bone','bone','bottle','breakfast','breakfast','bride','brow','buddy','butter','calf','camera','canyon','card','ceiling','cent','cent','cereal','chair','charcoal','chemistry','chicken','chicken','chocolate','church','classroom','college','college','composer','cooperate','cooperate','cop','couch','cousin','cow','cow','crib','dad','daughter','decade','dentist','disc','disorganize','dollar','driver','drizzle','elegance','flu','foot','frustration','glass','grass','grass','guitar','hallway','happiness','happiness','hat','hen','hip','horn','hose','kidney','lemon','lens','linen','liver','meal','meal','men','metal','meter','meter','mink','motel','motor','motor','mouse','mouse','music','neck','newspaper','oak','orthodontist','polyester','president','rabbi','rail','rat','rice','rice','roof','roof','salad','sandwich','sheep','sheep','sinner','snow','snow','son','south','spoon','steak','steeple','sugar','sun','supper','sweater','taxi','throat','tin','tin','tobacco','toe','tree','uncle','unnecessary','violin','vitamin','wagon','wagon','weekend','whiskey','whiskey','window','wine','wine','winter','winter','wire','yard']\n",
    "simlex999_words_2 = ['foolish','boy','adult','creator','reader','literature','text','story','article','bible','information','essay','theme','topic','definition','choose','winner','helium','triumph','doorway','trick','wife','balloon','wander','important','necessary','goal','candidate','presence','cab','carriage','bicycle','highway','factory','horn','gauge','elevator','bridge','hose','shrink','shoulder','body','bone','muscle','vein','wrist','knee','neck','crazy','rare','frigid','young','immoral','dumb','terrible','funny','frigid','intelligence','satisfy','pupil','professor','easy','dense','foolish','clever','intelligent','rare','dawn','morning','cigar','insight','guilty','opinion','impression','concept','flower','self','try','fail','trip','conquest','discover','company','industry','difficult','tough','dense','simple','easy','palm','presence','calendar','log','paper','awareness','interest','broad','literature','dictionary','page','clue','newspaper','tongue','bone','hurricane','notify','bus','task','explain','argument','acknowledge','hear','topic','restore','entertain','join','beg','want','sell','buy','thumb','hand','companion','sure','grief','harm','timber','bath','president','biology','stream','sea','valley','strange','odd','strange','normal','abdomen','curtain','grass','strength','band','retain','president','emotion','boy','announce','verify','participate','originate','go','quit','bride','husband','straw','cannon','costume','glove','basket','narrow','rattle','legion','squad','learn','possess','withdraw','mouth','huge','destroy','choke','hang','defend','nail','situation','flexible','big','difficult','tough','infection','seashore','island','sea','reef','vein','cruel','proper','engagement','obvious','choice','tail','anxious','comprehend','planet','meet','mad','princess','king','island','make','construct','construction','stomach','hut','clever','strange','tough','tail','alley','car','prestige','fame','poverty','protect','reject','conquest','straw','region','zone','corner','recommend','acknowledge','believe','forgive','recommend','deny','deliver','reject','avoid','criticism','agreement','arithmetic','become','vein','mist','fury','mood','rapid','persuade','differ','justify','prove','rationalize','cage','jail','hero','construct','earn','become','choice','symbol','manager','possess','protect','borrow','give','predict','pretend','opinion','proud','bag','bottle','management','condition','swamp','plenty','cheerful','glad','young','angry','mad','wonderful','cheerful','generous','cruel','decide','notify','bowl','organize','require','hang','elect','spine','chest','stomach','nerve','shoulder','orthodontist','professor','temper','booth','party','gun','cent','balloon','singer','happen','quit','lend','allow','put','borrow','deny','know','steal','ledge','side','save','avoid','ask','explore','nerve','action','fun','trick','hallway','hall','bowl','ceremony','brick','decoration','carbon','atom','air','marry','leg','foot','wrist','thumb','pair','opponent','confidence','doorway','gate','corridor','cellar','floor','kitchen','theft','violation','fraud','odd','sly','ocean','obvious','scheme','image','west','noise','evening','sunrise','cardboard','new','ignore','learn','know','retain','confession','important','inquire','mare','colt','ox','bunch','parade','jar','cone','enter','send','allow','come','sell','cliff','minute','fresh','ancient','ashamed','flexible','haze','mist','fog','storm','weather','might','capability','equation','log','manner','paragraph','earn','soup','breakfast','chicken','evaluate','listen','arrow','proper','fashion','management','stud','partner','girl','son','soul','husband','father','warrior','child','uncle','sentry','victor','maker','prove','choose','crazy','mink','side','top','scientist','attend','heavy','ice','salt','lip','tooth','arm','flesh','marrow','fiction','shrink','banker','sailor','chaos','broad','heavy','awful','throat','wife','man','secretary','fur','kid','son','brother','soldier','partner','intelligence','defend','dull','size','ankle','forget','sell','job','woman','straw','highway','threat','disease','task','logic','insight','skill','instructor','rabbi','helper','discourage','glad','plead','pray','choke','people','add','divide','rare','tongue','belief','ask','image','perception','infection','news','horse','cat','hostility','apartment','barn','key','carpet','mouse','universe','verdict','hear','obey','mayor','comprehend','believe','awful','terrible','immoral','guilty','terrific','great','simple','fox','happen','sickness','guardian','baby','deck','ceiling','possess','obtain','steal','carry','receive','deliver','leave','shame','mustard','demon','grow','get','obtain','find','give','gentleman','save','border','confusion','flour','cheese','salad','apple','bacon','sandwich','bread','paragraph','flexible','army','hotel','furniture','cannon','knife','dawn','trick','fur','originate','argue','find','cheap','narrow','film','conquest','send','restore','complain','guardian','wife','child','maid','lion','pet','rabbit','imagine','portray','seem','passion','journal','hawk','hen','turkey','proud','adult','rapid','intuition','illusion','fantasy','tear','word','juice','explain','forget','illness','mad','terrific','great','examine','examine','pursue','fact','orchestra','parade','add','marry','acquire','dumb','persuade','employer','mechanic','camera','surgery','narrow','safety','globe','tragedy','burial','catastrophe','state','dusk','dull','doctor','normal','attend','receive','disappear','psychology','disappear','dirt','magnitude','misery','go','ignore','wander','remain','appear','enter','pride','entertain','plead','spirit','priest','devil','prey','dominate','magnitude','course','grow','mouse','decide','dawn','day','chapter','parent','brother','god','daughter','belt','ancient','crowd','anxious','person','catastrophe','emergency','beef','hut','build','divide','chair','justice','portray','bus','bring','analyze','please','atmosphere','president','booth','elevator','hat','cigar','appliance','pray','conversation','language','television','think','meet','attend','please','differ','argue','know','forgive','listen','baseball','door','buddy','guest','guy','teacher','mother','owe','appear','seem','come','leave','bell','fabric','cloth','coat','jacket','closet','drawer','button','keep','monk','daughter','intelligent','dumb','justify','cheap','payment','salary','income','cell','bath','bed','sure','wife','agreement','make','build','imagine','destroy','salary','capital','diamond','pearl','herb','cabin','cabin','business','bee','angry','carry','long','brain','employee','funny','liver','violet','bulb','bush','endurance','order','big','huge','flexible','angle','waist','vein','bedroom','rationalize','decide','inquire','idea','choice','door','crib','furniture','chair','couch','bedroom','blanket','hospital','discover','buy','put','remain','melody','head','sunshine','coast','succeed','accomplish','dominate','discourage','arrive','lend','fail','keep','get','tail','story','news','age','wonderful','difficulty','think','society','maid','elect','ashamed','become','attend','bring','engine','beg','announce','animal','football','generous','band','century','suds','quest','agreement','condition','new','fresh','decade','join','predict','jet','airport','notify','wide','movement','obey','accomplish','succeed','try','grade','law','competence','ability','actor','gin','wine','whiskey','brandy','cocktail','evaluate','window','lemon','juice','candy','sauce','sunshine','bishop','rhythm','lawyer','month','nephew','flight','bean','song','baseball','bedroom','kitchen','coffee','queen','ant','alcohol','beverage','champagne','door','hymn','bedroom','date','year','deck','car','anchor','jaw','knee','teeth','ankle','elbow','neck','container','supper','bacon','princess','eye','companion','potato','bull','president','valley','bridge','cathedral','wife','size','wheat','bench','coal','theory','steak','rice','pie','choir','hallway','class','profession','writer','participate','join','sheriff','baseball','uncle','cattle','goat','cradle','mother','kid','century','colonel','computer','organize','people','pilot','rain','style','fever','head','anger','crystal','moss','blade','drum','corridor','peace','luck','coat','turkey','lip','drum','garden','organ','tea','camera','fabric','lung','dinner','waist','fraternity','aluminum','yard','inch','fur','inn','engine','boat','cat','management','melody','spine','information','maple','dentist','cotton','mayor','minister','fence','mouse','bean','boy','ceiling','floor','vinegar','lunch','lamb','cattle','saint','weather','storm','father','north','cup','meat','chapel','honey','sky','meal','jacket','cab','nose','aluminum','metal','cigarette','finger','maple','aunt','necessary','instrument','iron','carriage','container','week','gin','champagne','door','liquor','brandy','season','summer','cord','inch']\n",
    "\n",
    "sentence_gen(simlex999_words_2, 'simlex999_30_2.txt')"
   ]
  },
  {
   "cell_type": "code",
   "execution_count": 31,
   "metadata": {},
   "outputs": [
    {
     "name": "stdout",
     "output_type": "stream",
     "text": [
      ".................................................................................................................................................................................................................................................................................................................................................................Finished!\n",
      ".................................................................................................................................................................................................................................................................................................................................................................Finished!\n"
     ]
    }
   ],
   "source": [
    "wordSim = open(\"../../datasets/WordSim-353/combined.csv\", \"r\")\n",
    "wordSim_words_1 = []\n",
    "wordSim_words_2 = []\n",
    "\n",
    "iterWordSim = iter(wordSim)\n",
    "next(iterWordSim)\n",
    "for idx, row in enumerate(iterWordSim):\n",
    "    line = row.split(',')\n",
    "    wordSim_words_1.append(line[0])\n",
    "    wordSim_words_2.append(line[1])\n",
    "\n",
    "sentence_gen(wordSim_words_1, 'wordSim_1.txt')\n",
    "sentence_gen(wordSim_words_2, 'wordSim_2.txt')\n",
    "wordSim.close()"
   ]
  },
  {
   "cell_type": "code",
   "execution_count": null,
   "metadata": {
    "collapsed": true
   },
   "outputs": [],
   "source": [
    "MEN = open(\"../../datasets/MEN/MEN_dataset_natural_form_full\", \"r\")\n",
    "MEN_words_1 = []\n",
    "MEN_words_2 = []\n",
    "\n",
    "iterMEN = iter(MEN)\n",
    "for idx, row in enumerate(iterMEN):\n",
    "    line = row.split(' ')\n",
    "    MEN_words_1.append(line[0])\n",
    "    MEN_words_2.append(line[1])\n",
    "\n",
    "sentence_gen(MEN_words_1, 'MEN_1.txt')\n",
    "sentence_gen(MEN_words_2, 'MEN_2.txt')\n",
    "MEN.close()"
   ]
  }
 ],
 "metadata": {
  "kernelspec": {
   "display_name": "Python 3",
   "language": "python",
   "name": "python3"
  },
  "language_info": {
   "codemirror_mode": {
    "name": "ipython",
    "version": 3
   },
   "file_extension": ".py",
   "mimetype": "text/x-python",
   "name": "python",
   "nbconvert_exporter": "python",
   "pygments_lexer": "ipython3",
   "version": "3.6.1"
  }
 },
 "nbformat": 4,
 "nbformat_minor": 2
}
