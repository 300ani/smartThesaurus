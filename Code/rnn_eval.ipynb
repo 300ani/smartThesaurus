{
 "cells": [
  {
   "cell_type": "code",
   "execution_count": 6,
   "metadata": {},
   "outputs": [],
   "source": [
    "from __future__ import absolute_import\n",
    "from __future__ import print_function\n",
    "from __future__ import division\n",
    "\n",
    "import json, os, re, shutil, sys, time\n",
    "from importlib import reload\n",
    "import collections, itertools\n",
    "import unittest\n",
    "from IPython.display import display, HTML\n",
    "\n",
    "# NLTK for NLP utils and corpora\n",
    "import nltk\n",
    "\n",
    "# NumPy and TensorFlow\n",
    "import numpy as np\n",
    "import tensorflow as tf\n",
    "assert(tf.__version__.startswith(\"1.\"))\n",
    "\n",
    "# Helper libraries\n",
    "from rnn.w266_common import utils, vocabulary, tf_embed_viz\n",
    "\n",
    "# Your code\n",
    "import rnn.rnnlm as rnnlm;reload(rnnlm)\n",
    "import rnn.rnnlm_test as rnnlm_test;reload(rnnlm_test)\n",
    "from nltk.corpus import PlaintextCorpusReader"
   ]
  },
  {
   "cell_type": "markdown",
   "metadata": {},
   "source": [
    "## RNN"
   ]
  },
  {
   "cell_type": "code",
   "execution_count": 7,
   "metadata": {},
   "outputs": [
    {
     "name": "stderr",
     "output_type": "stream",
     "text": [
      "test_shapes_embed (rnn.rnnlm_test.TestRNNLMCore) ... ok\n",
      "test_shapes_output (rnn.rnnlm_test.TestRNNLMCore) ... ok\n",
      "test_shapes_recurrent (rnn.rnnlm_test.TestRNNLMCore) ... ok\n",
      "test_shapes_train (rnn.rnnlm_test.TestRNNLMTrain) ... ok\n",
      "test_shapes_sample (rnn.rnnlm_test.TestRNNLMSampler) ... ok\n",
      "\n",
      "----------------------------------------------------------------------\n",
      "Ran 5 tests in 2.111s\n",
      "\n",
      "OK\n"
     ]
    }
   ],
   "source": [
    "reload(rnnlm)\n",
    "\n",
    "TF_GRAPHDIR = \"../pretrained/rnn_graph\"\n",
    "\n",
    "# Clear old log directory.\n",
    "shutil.rmtree(TF_GRAPHDIR, ignore_errors=True)\n",
    "\n",
    "lm = rnnlm.RNNLM(V=10000, H=200, num_layers=2)\n",
    "lm.BuildCoreGraph()\n",
    "lm.BuildTrainGraph()\n",
    "lm.BuildSamplerGraph()\n",
    "\n",
    "summary_writer = tf.summary.FileWriter(TF_GRAPHDIR, lm.graph)\n",
    "\n",
    "reload(rnnlm); reload(rnnlm_test)\n",
    "utils.run_tests(rnnlm_test, [\"TestRNNLMCore\", \"TestRNNLMTrain\", \"TestRNNLMSampler\"])"
   ]
  },
  {
   "cell_type": "code",
   "execution_count": 8,
   "metadata": {
    "collapsed": true
   },
   "outputs": [],
   "source": [
    "def run_epoch(lm, session, batch_iterator,\n",
    "              train=False, verbose=False,\n",
    "              tick_s=10, learning_rate=None):\n",
    "    assert(learning_rate is not None)\n",
    "    start_time = time.time()\n",
    "    tick_time = start_time  # for showing status\n",
    "    total_cost = 0.0  # total cost, summed over all words\n",
    "    total_batches = 0\n",
    "    total_words = 0\n",
    "\n",
    "    if train:\n",
    "        train_op = lm.train_step_\n",
    "        use_dropout = True\n",
    "        loss = lm.train_loss_\n",
    "    else:\n",
    "        train_op = tf.no_op()\n",
    "        use_dropout = False  # no dropout at test time\n",
    "        loss = lm.loss_  # true loss, if train_loss is an approximation\n",
    "\n",
    "    for i, (w, y) in enumerate(batch_iterator):\n",
    "        # At first batch in epoch, get a clean intitial state.\n",
    "        if i == 0:\n",
    "            h = session.run(lm.initial_h_, {lm.input_w_: w})\n",
    "\n",
    "        feed_dict = {\n",
    "            lm.input_w_: w,\n",
    "            lm.target_y_: y,\n",
    "            lm.initial_h_: h,\n",
    "            lm.learning_rate_: learning_rate,\n",
    "            lm.use_dropout_: use_dropout\n",
    "        }\n",
    "        ops = [loss, lm.final_h_, train_op]        \n",
    "        #### YOUR CODE HERE ####\n",
    "        # session.run(...) the ops with the feed_dict constructed above.\n",
    "        # Ensure \"cost\" becomes the value of \"loss\".\n",
    "        # Hint: see \"ops\" for other variables that need updating in this loop.\n",
    "        \n",
    "        cost, h, _ = session.run([loss, lm.final_h_ ,train_op], feed_dict=feed_dict)\n",
    "        \n",
    "        #### END(YOUR CODE) ####\n",
    "        total_cost += cost\n",
    "        total_batches = i + 1\n",
    "        total_words += w.size  # w.size = batch_size * max_time\n",
    "\n",
    "        ##\n",
    "        # Print average loss-so-far for epoch\n",
    "        # If using train_loss_, this may be an underestimate.\n",
    "        if verbose and (time.time() - tick_time >= tick_s):\n",
    "            avg_cost = total_cost / total_batches\n",
    "            avg_wps = total_words / (time.time() - start_time)\n",
    "            print(\"[batch {:d}]: seen {:d} words at {:.1f} wps, loss = {:.3f}\".format(\n",
    "                i, total_words, avg_wps, avg_cost))\n",
    "            tick_time = time.time()  # reset time ticker\n",
    "\n",
    "    return total_cost / total_batches\n",
    "\n",
    "def score_dataset(lm, session, ids, name=\"Data\"):\n",
    "    # For scoring, we can use larger batches to speed things up.\n",
    "    bi = utils.rnnlm_batch_generator(ids, batch_size=100, max_time=100)\n",
    "    cost = run_epoch(lm, session, bi, \n",
    "                     learning_rate=0.0, train=False, \n",
    "                     verbose=False, tick_s=3600)\n",
    "    print(\"{:s}: avg. loss: {:.03f}  (perplexity: {:.02f})\".format(name, cost, np.exp(cost)))\n",
    "    return cost"
   ]
  },
  {
   "cell_type": "code",
   "execution_count": 10,
   "metadata": {},
   "outputs": [
    {
     "name": "stdout",
     "output_type": "stream",
     "text": [
      "['news.en-00001-of-00100']\n",
      "Vocabulary: 10,000 types\n",
      "Loaded 322,832 sentences (8.16567e+06 tokens)\n",
      "Training set: 258,265 sentences (6,532,540 tokens)\n",
      "Test set: 64,567 sentences (1,633,132 tokens)\n"
     ]
    }
   ],
   "source": [
    "# Load the dataset\n",
    "#V = 10000\n",
    "#vocab, train_ids, test_ids = utils.load_corpus(\"brown\", split=0.8, V=V, shuffle=42)\n",
    "corpus_root = '../datasets/training-monolingual.tokenized.shuffled'\n",
    "wordlists = PlaintextCorpusReader(corpus_root, 'news.en-00001.*')\n",
    "print(wordlists.fileids())\n",
    "wordlists.words()\n",
    "\n",
    "\n",
    "V = 10000\n",
    "vocab, train_ids, test_ids = utils.load_corpus(wordlists, split=0.8, V=V, shuffle=42)"
   ]
  },
  {
   "cell_type": "code",
   "execution_count": 11,
   "metadata": {},
   "outputs": [],
   "source": [
    "# Training parameters\n",
    "max_time = 25\n",
    "batch_size = 100\n",
    "learning_rate = 0.01\n",
    "num_epochs = 10\n",
    "\n",
    "# Model parameters\n",
    "model_params = dict(V=vocab.size, \n",
    "                    H=200, \n",
    "                    softmax_ns=200,\n",
    "                    num_layers=2)\n",
    "\n",
    "TF_SAVEDIR = \"./rnn/rnn_model\"\n",
    "checkpoint_filename = os.path.join(TF_SAVEDIR, \"rnnlm\")\n",
    "trained_filename = os.path.join(TF_SAVEDIR, \"rnnlm_trained\")"
   ]
  },
  {
   "cell_type": "code",
   "execution_count": 12,
   "metadata": {
    "scrolled": true
   },
   "outputs": [
    {
     "name": "stdout",
     "output_type": "stream",
     "text": [
      "[epoch 1] Starting epoch 1\n",
      "[epoch 1] Completed in 0:11:05\n",
      "[epoch 1] Train set: avg. loss: 4.989  (perplexity: 146.81)\n",
      "[epoch 1] Test set: avg. loss: 5.007  (perplexity: 149.51)\n",
      "\n",
      "[epoch 2] Starting epoch 2\n",
      "[epoch 2] Completed in 0:11:09\n",
      "[epoch 2] Train set: avg. loss: 4.874  (perplexity: 130.83)\n",
      "[epoch 2] Test set: avg. loss: 4.900  (perplexity: 134.31)\n",
      "\n",
      "[epoch 3] Starting epoch 3\n",
      "[epoch 3] Completed in 0:11:00\n",
      "[epoch 3] Train set: avg. loss: 4.819  (perplexity: 123.84)\n",
      "[epoch 3] Test set: avg. loss: 4.851  (perplexity: 127.81)\n",
      "\n",
      "[epoch 4] Starting epoch 4\n",
      "[epoch 4] Completed in 0:11:24\n",
      "[epoch 4] Train set: avg. loss: 4.784  (perplexity: 119.63)\n",
      "[epoch 4] Test set: avg. loss: 4.820  (perplexity: 124.00)\n",
      "\n",
      "[epoch 5] Starting epoch 5\n",
      "[epoch 5] Completed in 0:11:11\n",
      "[epoch 5] Train set: avg. loss: 4.764  (perplexity: 117.24)\n",
      "[epoch 5] Test set: avg. loss: 4.803  (perplexity: 121.89)\n",
      "\n",
      "[epoch 6] Starting epoch 6\n",
      "[epoch 6] Completed in 0:11:14\n",
      "[epoch 6] Train set: avg. loss: 4.749  (perplexity: 115.48)\n",
      "[epoch 6] Test set: avg. loss: 4.791  (perplexity: 120.38)\n",
      "\n",
      "[epoch 7] Starting epoch 7\n",
      "[epoch 7] Completed in 0:11:58\n",
      "[epoch 7] Train set: avg. loss: 4.743  (perplexity: 114.75)\n",
      "[epoch 7] Test set: avg. loss: 4.785  (perplexity: 119.75)\n",
      "\n",
      "[epoch 8] Starting epoch 8\n",
      "[epoch 8] Completed in 0:12:18\n",
      "[epoch 8] Train set: avg. loss: 4.726  (perplexity: 112.88)\n",
      "[epoch 8] Test set: avg. loss: 4.772  (perplexity: 118.20)\n",
      "\n",
      "[epoch 9] Starting epoch 9\n",
      "[epoch 9] Completed in 0:13:06\n",
      "[epoch 9] Train set: avg. loss: 4.720  (perplexity: 112.12)\n",
      "[epoch 9] Test set: avg. loss: 4.766  (perplexity: 117.47)\n",
      "\n",
      "[epoch 10] Starting epoch 10\n",
      "[epoch 10] Completed in 0:12:35\n",
      "[epoch 10] Train set: avg. loss: 4.714  (perplexity: 111.48)\n",
      "[epoch 10] Test set: avg. loss: 4.762  (perplexity: 116.97)\n",
      "\n"
     ]
    }
   ],
   "source": [
    "# Will print status every this many seconds\n",
    "print_interval = 5\n",
    "\n",
    "lm = rnnlm.RNNLM(**model_params)\n",
    "lm.BuildCoreGraph()\n",
    "lm.BuildTrainGraph()\n",
    "\n",
    "# Explicitly add global initializer and variable saver to LM graph\n",
    "with lm.graph.as_default():\n",
    "    initializer = tf.global_variables_initializer()\n",
    "    saver = tf.train.Saver()\n",
    "    \n",
    "# Clear old log directory\n",
    "shutil.rmtree(TF_SAVEDIR, ignore_errors=True)\n",
    "if not os.path.isdir(TF_SAVEDIR):\n",
    "    os.makedirs(TF_SAVEDIR)\n",
    "\n",
    "with tf.Session(graph=lm.graph) as session:\n",
    "    # Seed RNG for repeatability\n",
    "    tf.set_random_seed(42)\n",
    "\n",
    "    session.run(initializer)\n",
    "\n",
    "    for epoch in range(1,num_epochs+1):\n",
    "        t0_epoch = time.time()\n",
    "        bi = utils.rnnlm_batch_generator(train_ids, batch_size, max_time)\n",
    "        print(\"[epoch {:d}] Starting epoch {:d}\".format(epoch, epoch))\n",
    "        run_epoch(lm, session, bi, learning_rate=learning_rate, train=True, verbose=False, tick_s=10)\n",
    "        print(\"[epoch {:d}] Completed in {:s}\".format(epoch, utils.pretty_timedelta(since=t0_epoch)))\n",
    "    \n",
    "        # Save a checkpoint\n",
    "        saver.save(session, checkpoint_filename, global_step=epoch)\n",
    "    \n",
    "        ##\n",
    "        # score_dataset will run a forward pass over the entire dataset\n",
    "        # and report perplexity scores. This can be slow (around 1/2 to \n",
    "        # 1/4 as long as a full epoch), so you may want to comment it out\n",
    "        # to speed up training on a slow machine. Be sure to run it at the \n",
    "        # end to evaluate your score.\n",
    "        print(\"[epoch {:d}]\".format(epoch), end=\" \")\n",
    "        score_dataset(lm, session, train_ids, name=\"Train set\")\n",
    "        print(\"[epoch {:d}]\".format(epoch), end=\" \")\n",
    "        score_dataset(lm, session, test_ids, name=\"Test set\")\n",
    "        print(\"\")\n",
    "    \n",
    "    # Save final model\n",
    "    saver.save(session, trained_filename)"
   ]
  },
  {
   "cell_type": "code",
   "execution_count": 13,
   "metadata": {
    "collapsed": true
   },
   "outputs": [],
   "source": [
    "def score_seq(lm, session, seq, vocab):\n",
    "    \"\"\"Score a sequence of words. Returns total log-probability.\"\"\"\n",
    "    padded_ids = vocab.words_to_ids(utils.canonicalize_words([\"<s>\"] + seq + [\"</s>\"], \n",
    "                                                             wordset=vocab.word_to_id))\n",
    "    w = np.reshape(padded_ids[:-1], [1,-1])\n",
    "    y = np.reshape(padded_ids[1:],  [1,-1])\n",
    "    h = session.run(lm.initial_h_, {lm.input_w_: w})\n",
    "    feed_dict = {lm.input_w_:w,\n",
    "                 lm.target_y_:y,\n",
    "                 lm.initial_h_:h,\n",
    "                 lm.dropout_keep_prob_: 1.0}\n",
    "    # Return log(P(seq)) = -1*loss\n",
    "    return -1*session.run(lm.loss_, feed_dict)\n",
    "\n",
    "def load_and_score(inputs, sort=True):\n",
    "    \"\"\"Load the trained model and score the given words.\"\"\"\n",
    "    lm = rnnlm.RNNLM(**model_params)\n",
    "    lm.BuildCoreGraph()\n",
    "    \n",
    "    with lm.graph.as_default():\n",
    "        saver = tf.train.Saver()\n",
    "\n",
    "    with tf.Session(graph=lm.graph) as session:  \n",
    "        # Load the trained model\n",
    "        saver.restore(session, trained_filename)\n",
    "\n",
    "        if isinstance(inputs[0], str) or isinstance(inputs[0], bytes):\n",
    "            inputs = [inputs]\n",
    "\n",
    "        # Actually run scoring\n",
    "        results = []\n",
    "        for words in inputs:\n",
    "            score = score_seq(lm, session, words, vocab)\n",
    "            sentence_gen = \" \".join(words)\n",
    "            results.append((score, sentence_gen))\n",
    "\n",
    "        # Sort if requested\n",
    "        if sort: results = sorted(results, reverse=True)\n",
    "            \n",
    "        return results"
   ]
  },
  {
   "cell_type": "code",
   "execution_count": 14,
   "metadata": {},
   "outputs": [
    {
     "name": "stdout",
     "output_type": "stream",
     "text": [
      "INFO:tensorflow:Restoring parameters from ./rnn/rnn_model/rnnlm_trained\n"
     ]
    },
    {
     "data": {
      "text/plain": [
       "[(-7.0965118408203125, 'the boy and the girl is'),\n",
       " (-7.1819815635681152, 'the boy and the girl are')]"
      ]
     },
     "execution_count": 14,
     "metadata": {},
     "output_type": "execute_result"
    }
   ],
   "source": [
    "sents = [\"the boy and the girl is\",\n",
    "         \"the boy and the girl are\"]\n",
    "load_and_score([s.split() for s in sents])"
   ]
  },
  {
   "cell_type": "code",
   "execution_count": 135,
   "metadata": {},
   "outputs": [
    {
     "name": "stdout",
     "output_type": "stream",
     "text": [
      "rnn_eval :  9990  .......................................................................................................................................................................................................................................................................................................................................................................................................................................................................................................................................................................................................................................................................................................................................................................................................................................................................................................................................................................................................................................\n",
      "Finished\n"
     ]
    }
   ],
   "source": [
    "tf.logging.set_verbosity(tf.logging.ERROR)\n",
    "output_1 = open('./sentence_generator/output.txt', 'r').readlines()\n",
    "output_2 = open('./sentence_generator/output_2.txt', 'r').readlines()\n",
    "\n",
    "idx = 1\n",
    "per_word = 0\n",
    "\n",
    "sents_1 = []\n",
    "sents_2 = []\n",
    "avg_prob_1,avg_prob_2 = 0, 0\n",
    "final_result = []\n",
    "print(\"rnn_eval : \", len(output_1),' ', end=''),\n",
    "for i in range (0, len(output_1)):\n",
    "    split_1 = output_1[i].replace('\\n','').split(',')\n",
    "    split_2 = output_2[i].replace('\\n','').split(',')\n",
    "\n",
    "    sents_1.append(split_1[2])\n",
    "    sents_1.append(split_2[2].replace(split_2[1],split_1[1]))\n",
    "    sents_2.append(split_2[2])\n",
    "    sents_2.append(split_1[2].replace(split_1[1],split_2[1]))\n",
    "\n",
    "    if (i % 10) == 9:\n",
    "        print('.', end='')\n",
    "        score_1 = load_and_score([s.split() for s in sents_1])\n",
    "        score_2 = load_and_score([s.split() for s in sents_2])\n",
    "                \n",
    "        for score in score_1:\n",
    "            avg_prob_1 += score[0]\n",
    "        avg_prob_1 = avg_prob_1 / 20\n",
    "        \n",
    "        for score in score_2:\n",
    "            avg_prob_2 += score[0]\n",
    "        avg_prob_2 = avg_prob_2 / 20\n",
    "        \n",
    "        final_result.append([split_1[1], split_2[1], (avg_prob_1-avg_prob_2)])\n",
    "        \n",
    "        sents_1.clear()\n",
    "        sents_2.clear()\n",
    "        idx += 1\n",
    "        \n",
    "print('\\nFinished', )"
   ]
  },
  {
   "cell_type": "code",
   "execution_count": 136,
   "metadata": {},
   "outputs": [
    {
     "name": "stdout",
     "output_type": "stream",
     "text": [
      "[['childish', 'foolish', 0.0], ['child', 'boy', -0.0057657957077026367], ['child', 'adult', 0.21310039162635874], ['author', 'creator', 0.26838316708803234], ['author', 'reader', 0.046531779661773243], ['book', 'literature', 0.39756145989373515], ['book', 'text', 0.19528305079314734], ['book', 'story', -0.014609807955338283], ['book', 'article', 0.066189956951781426], ['book', 'bible', 0.31258665086272508], ['book', 'information', 0.031340020180465444], ['book', 'essay', 0.40612387146953566], ['book', 'theme', 0.15775586341143022], ['book', 'topic', 0.25106935559427868], ['dictionary', 'definition', 0.99941171649034644], ['want', 'choose', 0.4090833492293644], ['champion', 'winner', -0.036211467647477846], ['air', 'helium', -0.69570250396251332], ['victory', 'triumph', 0.25603640323662624], ['exit', 'doorway', -0.96547586309622524], ['bath', 'trick', -0.11841441720113721], ['bath', 'wife', -0.36952037887244948], ['bath', 'balloon', 0.059071936569377925], ['roam', 'wander', 0.0029535968284672975], ['crucial', 'important', -0.23377515932331061], ['essential', 'necessary', -0.070763255189067564], ['winner', 'goal', -0.0032709432159965246], ['winner', 'candidate', -0.045849792125400413], ['winner', 'presence', -0.0039767022909007466], ['car', 'cab', 0.43184645773976449], ['car', 'carriage', -0.47673796027798954], ['car', 'bicycle', 0.40361409266298054], ['car', 'highway', 0.33924455885067761], ['car', 'factory', 0.27369926941592126], ['car', 'horn', 0.61654648709903093], ['car', 'gauge', 0.59391383405954201], ['car', 'elevator', -0.46570652520833811], ['car', 'bridge', 0.25836674283138095], ['car', 'hose', -0.49783724948257646], ['disappear', 'shrink', 0.0047299532073292738], ['arm', 'shoulder', 0.003483138819424525], ['arm', 'body', -0.22955423184534496], ['arm', 'bone', 0.085131451692033622], ['arm', 'muscle', 0.11327778325507332], ['arm', 'vein', -0.811978632695463], ['arm', 'wrist', 0.1212053152676944], ['arm', 'knee', 0.035357498391253017], ['arm', 'neck', 0.051586676799445286], ['sick', 'crazy', -0.025555655898491736], ['exotic', 'rare', -0.24397859799573141], ['fragile', 'frigid', -0.82541115772113738], ['restless', 'young', 0.45064919804961256], ['illegal', 'immoral', -0.63597271759538287], ['stupid', 'dumb', -0.75437170163752132], ['sad', 'terrible', 0.045095703057468128], ['sad', 'funny', -0.014507614520589129], ['rough', 'frigid', -0.75906225854890508], ['wisdom', 'intelligence', -0.34811172327137818], ['comprehend', 'satisfy', 0.67955960758490441], ['student', 'pupil', -0.62528791927895711], ['student', 'professor', 0.20683889840861092], ['simple', 'easy', -0.1171090695983068], ['dumb', 'dense', -0.0058554534799153402], ['dumb', 'foolish', -0.000292772673996744], ['dumb', 'clever', 0.79728024032595712], ['dumb', 'intelligent', 0.92667054773712287], ['dumb', 'rare', 0.74742424470252899], ['day', 'dawn', 0.33540602325502356], ['day', 'morning', 0.2016323664779982], ['pipe', 'cigar', -0.84437607000770409], ['fact', 'insight', 0.10087435331418959], ['honest', 'guilty', -0.010754278855285904], ['belief', 'opinion', -0.15823310273670899], ['belief', 'impression', 0.08822176771472634], ['belief', 'concept', 0.0019389261390330148], ['belief', 'flower', 0.12321014935565877], ['confidence', 'self', 0.16506079223493231], ['succeed', 'try', -0.17005084584815222], ['succeed', 'fail', 0.087686408246227643], ['journey', 'trip', -0.10271897968229204], ['journey', 'conquest', -0.82771557125279216], ['explore', 'discover', 0.025976386888411085], ['business', 'company', 0.04317723349847391], ['business', 'industry', 0.09650037816967405], ['hard', 'difficult', 0.043262456919652692], ['hard', 'tough', 0.1271923052800652], ['hard', 'dense', -0.70842166906827231], ['hard', 'simple', 0.10878205489802717], ['hard', 'easy', 0.038267767524564178], ['finger', 'palm', 0.092830904130927649], ['absence', 'presence', -0.11566563805914143], ['date', 'calendar', 0.1473494667008648], ['wood', 'log', 0.22810571739174712], ['wood', 'paper', -0.12235895725632773], ['attention', 'awareness', 0.20717684431247818], ['attention', 'interest', -0.065015570320996474], ['narrow', 'broad', -0.08678447087597263], ['word', 'literature', 0.22153124268850277], ['word', 'dictionary', -0.67147904184659435], ['word', 'page', 0.09137659989436564], ['word', 'clue', 0.27653290317586876], ['word', 'newspaper', 0.019294417642619521], ['muscle', 'tongue', 0.14012308899278736], ['muscle', 'bone', -0.028365888206305812], ['storm', 'hurricane', 0.15477331687966256], ['inform', 'notify', -0.62063154766462336], ['cab', 'bus', -0.33153549889201983], ['assignment', 'task', -0.2959468444483857], ['discuss', 'explain', 0.039741599160944219], ['discussion', 'argument', 0.06164846835526383], ['speak', 'acknowledge', 0.0421638538529443], ['speak', 'hear', -0.15127141450797588], ['story', 'topic', 0.23683442713074143], ['replace', 'restore', -0.01475513476071022], ['enjoy', 'entertain', -0.46169912243780509], ['participate', 'join', -0.15004110903784351], ['borrow', 'beg', -0.74364085225822674], ['borrow', 'want', -0.666112277521969], ['borrow', 'sell', -0.31574362981390447], ['steal', 'buy', -0.39794510328177246], ['nail', 'thumb', -0.010433086615504905], ['nail', 'hand', -0.34309222146181817], ['lover', 'companion', 0.032482372798369852], ['certain', 'sure', -0.19114495580008395], ['agony', 'grief', 1.2538486951268641], ['pain', 'harm', 0.081816179720943794], ['log', 'timber', -1.0770346888319455], ['log', 'bath', -0.17285517339118428], ['pupil', 'president', 0.49493635719805606], ['anatomy', 'biology', 1.1969414418070468], ['river', 'stream', 0.53934314581319143], ['river', 'sea', 0.010675896571360255], ['river', 'valley', 0.10102536625495873], ['bizarre', 'strange', -0.21542881610650255], ['weird', 'odd', -0.11168899470699856], ['weird', 'strange', -0.097781438794797282], ['weird', 'normal', -0.16189059114292625], ['belly', 'abdomen', -0.0080945295571464015], ['rod', 'curtain', -0.030874668570753272], ['root', 'grass', -0.052263161490976984], ['endurance', 'strength', 0.81870182052499896], ['endurance', 'band', 0.82408330822748344], ['remain', 'retain', 0.1235418071273795], ['politician', 'president', -0.30951478605506999], ['mood', 'emotion', 0.056405054268720889], ['condition', 'boy', -0.16924488610339772], ['declare', 'announce', -0.065038448605095667], ['say', 'verify', 0.61453615397049965], ['say', 'participate', 0.53231872855118745], ['begin', 'originate', -0.69443890366032868], ['begin', 'go', -0.26757280673239414], ['begin', 'quit', 0.067799190359487227], ['groom', 'bride', 0.0033899595179747166], ['wife', 'husband', 0.084289962300850618], ['wife', 'straw', 0.33282262952373465], ['ball', 'cannon', -0.79278953926203499], ['ball', 'costume', 0.3128436525382412], ['ball', 'glove', -0.68302310248356157], ['ball', 'basket', 0.31128696762514974], ['wide', 'narrow', 0.21284001080343806], ['noise', 'rattle', -1.0140467201629537], ['army', 'legion', -0.75169639843185543], ['army', 'squad', 0.21762448298062864], ['absorb', 'learn', -0.1915267319743208], ['absorb', 'possess', -0.80145241425069358], ['absorb', 'withdraw', -0.0772266753542592], ['nose', 'mouth', -0.023254563252272931], ['tiny', 'huge', -0.13917809376320101], ['kill', 'destroy', 0.21614590602656314], ['kill', 'choke', -0.71353238060199331], ['kill', 'hang', 0.024518731616872458], ['kill', 'defend', 0.11051853911990683], ['head', 'nail', 0.2082198184812647], ['circumstance', 'situation', 0.73851505777281812], ['easy', 'flexible', 0.33015025449844337], ['easy', 'big', -0.06124836763091146], ['easy', 'difficult', -0.0075298341911773647], ['easy', 'tough', 0.12720767958560764], ['illness', 'infection', -0.013336876877346526], ['beach', 'seashore', -0.6888457407478592], ['beach', 'island', -0.099269395420572337], ['beach', 'sea', -0.083833790091155436], ['beach', 'reef', -0.70148394585984342], ['vessel', 'vein', -0.92155054712362094], ['harsh', 'cruel', 0.010602675127950434], ['formal', 'proper', -0.028957261530161205], ['appointment', 'engagement', -0.024275321458159027], ['apparent', 'obvious', -0.023065734838167984], ['chapter', 'choice', -0.20099304561489362], ['chapter', 'tail', 0.064905954179826253], ['afraid', 'anxious', 0.16853918198633622], ['read', 'comprehend', -0.43495554250285728], ['moon', 'planet', -0.074138590952657957], ['greet', 'meet', 0.36656141533151754], ['unhappy', 'mad', 0.19254043114865738], ['king', 'princess', 0.15248195052777191], ['prince', 'king', -0.057518247902078379], ['princess', 'island', -0.16705130359230935], ['destroy', 'make', -0.61113870085313771], ['destroy', 'construct', -0.95131165382317384], ['destruction', 'construction', -0.22132640212628019], ['course', 'stomach', 0.076462838485911178], ['cabin', 'hut', -0.79623519910200891], ['sly', 'clever', 0.74752563857395238], ['sly', 'strange', 0.82926037044493395], ['sly', 'tough', 0.68518495665548595], ['cliff', 'tail', 0.016747832351207137], ['street', 'alley', -0.66072505116197888], ['street', 'car', -0.18735048443065683], ['wealth', 'prestige', -0.81268154247104629], ['wealth', 'fame', -0.0054031067408608635], ['wealth', 'poverty', 0.057148119542413056], ['save', 'protect', 0.028753001527658029], ['withdraw', 'reject', -0.043519010194307484], ['hymn', 'conquest', -0.0021759505097147525], ['hymn', 'straw', 0.94515108349410504], ['area', 'region', 0.051177560926718435], ['area', 'zone', 0.18359210787421709], ['area', 'corner', 0.038427080064121988], ['advise', 'recommend', 0.0075724942162178621], ['accept', 'acknowledge', 0.15270437410808846], ['accept', 'believe', -0.15960711756778956], ['accept', 'forgive', -0.51403523411325303], ['accept', 'recommend', 0.10880916072628111], ['accept', 'deny', 0.10492800114239387], ['accept', 'deliver', 0.08435625952367154], ['accept', 'reject', 0.12119405027324248], ['reject', 'avoid', -0.15765644681647828], ['argument', 'criticism', 0.042683993989131253], ['argument', 'agreement', -0.096567944923343418], ['logic', 'arithmetic', -1.0811525978763559], ['accomplish', 'become', 0.28874515693326863], ['choice', 'vein', -0.66960929671876634], ['rain', 'mist', -0.95737956704693872], ['anger', 'fury', -1.0875973576019184], ['anger', 'mood', -0.13595819410537757], ['fast', 'rapid', 0.096465277703179808], ['argue', 'persuade', -0.033809343574862538], ['argue', 'differ', 0.069568602264006074], ['argue', 'justify', 0.14597525437772418], ['argue', 'prove', -0.043332521994859263], ['argue', 'rationalize', -0.78269710266987147], ['bar', 'cage', 0.32637608541826424], ['bar', 'jail', 0.031473309046916143], ['heroine', 'hero', 0.74299579412971273], ['make', 'construct', -0.3550947161757767], ['make', 'earn', 0.40329781546074273], ['make', 'become', 0.12563657332156009], ['jail', 'choice', 0.04313275792633231], ['code', 'symbol', 0.062917088259476728], ['leader', 'manager', 0.013152568280160537], ['keep', 'possess', -0.35589907324614867], ['keep', 'protect', 0.09084721915110805], ['keep', 'borrow', 0.33293787067740599], ['keep', 'give', -0.0060775203378931053], ['assume', 'predict', 0.030281556035717472], ['assume', 'pretend', -0.64398844180575843], ['bias', 'opinion', -0.43220245000624224], ['strong', 'proud', 0.13308913153563839], ['purse', 'bag', -0.18846351770452863], ['jar', 'bottle', 0.970383509562466], ['job', 'management', 0.16005892080893425], ['situation', 'condition', 0.10446538653116733], ['lake', 'swamp', -0.81185772909415821], ['abundance', 'plenty', 0.6737062916687675], ['happy', 'cheerful', -0.55540860898528877], ['happy', 'glad', 0.1891043597423856], ['happy', 'young', -0.15204802545923002], ['happy', 'angry', 0.03356588314323794], ['happy', 'mad', 0.18034960648931353], ['delightful', 'wonderful', 0.62780252785559476], ['delightful', 'cheerful', 0.031390126392780715], ['nice', 'generous', 0.17359807172643826], ['nice', 'cruel', 0.20670462950032231], ['portray', 'decide', -0.15731291706166495], ['portray', 'notify', -0.77380056616405746], ['plate', 'bowl', -0.19075137150125698], ['arrange', 'organize', -0.83500858831993607], ['arrange', 'require', -0.32079202964334996], ['put', 'hang', 0.27247210391639243], ['choose', 'elect', 0.3417022089403261], ['body', 'spine', 0.31641813447197897], ['body', 'chest', 0.39890618141994771], ['body', 'stomach', 0.30684437504237216], ['body', 'nerve', 0.34571774708768999], ['body', 'shoulder', 0.240561644190322], ['doctor', 'orthodontist', -0.48332690398127909], ['doctor', 'professor', 0.16819102803854413], ['doctor', 'temper', -0.63460878966252743], ['telephone', 'booth', 0.12966913956502957], ['people', 'party', 0.14865395773356127], ['people', 'gun', 0.29713702070161929], ['people', 'cent', 0.54410229914756769], ['people', 'balloon', 0.56652942239909088], ['actor', 'singer', 0.13830712583644633], ['do', 'happen', 0.77924266017823562], ['do', 'quit', 0.89754448660083064], ['give', 'lend', 0.40232413328084871], ['give', 'allow', 0.11969282295127304], ['give', 'put', -0.036279915737202018], ['give', 'borrow', 0.3838224292314516], ['give', 'deny', 0.27544412553566744], ['give', 'know', 0.0087870883644907138], ['give', 'steal', 0.35731153154224771], ['mountain', 'ledge', -0.66598013417728108], ['top', 'side', 0.12995258401989673], ['spend', 'save', 0.095549877202092404], ['ignore', 'avoid', -0.22010041198553587], ['ignore', 'ask', -0.34628620193472504], ['ignore', 'explore', -0.12658576490783346], ['gut', 'nerve', 0.71825967812423652], ['game', 'action', 0.259661834728659], ['game', 'fun', 0.1883505662924021], ['game', 'trick', 0.29548866192820533], ['aisle', 'hallway', 0.014774433096410355], ['aisle', 'hall', 0.84076810436051019], ['alley', 'bowl', 0.84811106947888959], ['celebration', 'ceremony', -0.050045327530391148], ['wall', 'brick', 0.29560981610486436], ['wall', 'decoration', -0.64449561316814652], ['atom', 'carbon', 0.71269323196061052], ['molecule', 'atom', 0.035634661598030526], ['molecule', 'air', 0.63211405996893966], ['engage', 'marry', 0.068107587458895225], ['limb', 'leg', 0.81645376594673635], ['hand', 'foot', 0.15053195114523632], ['hand', 'wrist', 0.35736466365833586], ['hand', 'thumb', 0.29926953361321473], ['couple', 'pair', 0.19814864876165306], ['adversary', 'opponent', 0.74436165893191752], ['attitude', 'confidence', -0.14065388341540341], ['door', 'doorway', -0.65767456466942864], ['door', 'gate', 0.1252187841261474], ['door', 'corridor', 0.45806357439917633], ['door', 'cellar', -0.60512941023878142], ['door', 'floor', 0.043752423454735734], ['door', 'kitchen', -0.017414749089407877], ['crime', 'theft', 0.32473930416387731], ['crime', 'violation', 0.31466101840033112], ['crime', 'fraud', 0.1382690664305759], ['strange', 'odd', 0.013185888509822163], ['strange', 'sly', -0.79122479409074398], ['sea', 'ocean', 0.014492233768057972], ['noticeable', 'obvious', 0.70025840799882832], ['idea', 'scheme', 0.16098230650070988], ['idea', 'image', 0.12454329409700904], ['north', 'west', 0.10291951223140128], ['racket', 'noise', 0.87526628639495563], ['sunset', 'evening', -0.30417806045899987], ['sunset', 'sunrise', -0.87928642339343455], ['paper', 'cardboard', -0.76402373984795524], ['recent', 'new', -0.17898087296651966], ['forget', 'ignore', 0.16975617180577629], ['forget', 'learn', -0.086611688251142738], ['forget', 'know', -0.25755037963960703], ['forget', 'retain', -0.0023714135590076069], ['denial', 'confession', -1.0527092508003264], ['necessary', 'important', -0.272392876404151], ['require', 'inquire', -0.72109542526094117], ['horse', 'mare', -0.99294640334312589], ['horse', 'colt', -1.0047610172191588], ['horse', 'ox', -0.93729549829442949], ['crowd', 'bunch', 0.040484997538586143], ['crowd', 'parade', 0.20787942870993792], ['cup', 'jar', -0.74725931263737877], ['cup', 'cone', -0.71907006173172316], ['go', 'enter', 0.16535388903377601], ['go', 'send', 0.22871342275368889], ['go', 'allow', 0.13649589567076603], ['go', 'come', 0.015251437201445839], ['go', 'sell', 0.081591572333095996], ['hill', 'cliff', 0.054222653605972226], ['second', 'minute', 0.20756082883966087], ['new', 'fresh', 0.43103715437228196], ['new', 'ancient', 0.50033732486643956], ['modest', 'ashamed', -0.79240771719173697], ['modest', 'flexible', 0.038051332737826016], ['cloud', 'haze', -0.9078655856000486], ['cloud', 'mist', -1.0240640670912819], ['cloud', 'fog', 0.024245405043874513], ['cloud', 'storm', -0.12057754278949417], ['cloud', 'weather', -0.19134119594135335], ['strength', 'might', -0.33391694001557504], ['strength', 'capability', 0.20369900277644248], ['formula', 'equation', -0.83304050514529848], ['formula', 'log', 0.11827379318603448], ['way', 'manner', 0.37751972966021796], ['letter', 'paragraph', -0.86781620368727808], ['deserve', 'earn', 0.10581742555629781], ['dinner', 'soup', 0.23542111457920534], ['dinner', 'breakfast', 0.02477478650288667], ['dinner', 'chicken', 0.036650955511669636], ['learn', 'evaluate', 0.24840961991913701], ['learn', 'listen', 0.083558171540085269], ['target', 'arrow', -0.77652611287685325], ['polite', 'proper', -0.26221726633720266], ['style', 'fashion', -0.093654500592556644], ['administration', 'management', -0.0082356625372561609], ['guy', 'stud', -0.7925571545639345], ['guy', 'partner', -0.093684573693467499], ['guy', 'girl', -0.13590986230588875], ['brother', 'son', -0.10109581087957764], ['brother', 'soul', 0.15820781512313609], ['man', 'husband', 0.064672585389640602], ['man', 'father', 0.15581951717841847], ['man', 'warrior', -0.66022445649886752], ['man', 'child', 0.069939660086739686], ['man', 'uncle', 0.28222875828814953], ['man', 'sentry', -0.55807817924257375], ['man', 'victor', 0.5519473130761412], ['creator', 'maker', -0.12961396189898799], ['explain', 'prove', 0.0027721362251185155], ['decide', 'choose', -0.020036754822044145], ['insane', 'crazy', 0.74934436987761188], ['oil', 'mink', -0.7101360787397013], ['bottom', 'side', -0.151293165631321], ['bottom', 'top', -0.22953788673615527], ['nurse', 'scientist', 0.018037919086349774], ['appear', 'attend', -0.051410883472257751], ['laden', 'heavy', -0.11168206780184775], ['water', 'ice', 0.19746007271159094], ['water', 'salt', 0.28745409933107524], ['mouth', 'lip', -0.71360108997058003], ['mouth', 'tooth', -0.81509089357933995], ['leg', 'arm', -0.05942224258546247], ['blood', 'flesh', 0.22745193302911382], ['blood', 'marrow', -0.73488828477249424], ['biography', 'fiction', -0.19842201319187147], ['reduce', 'shrink', 0.37565190501667622], ['lawyer', 'banker', 0.19724600658201119], ['captain', 'sailor', -0.72829439980517563], ['anarchy', 'chaos', 1.014975045749182], ['big', 'broad', 0.36096227043015894], ['big', 'heavy', 0.23934058540718972], ['great', 'awful', 0.34315852135104841], ['tongue', 'throat', -0.0033997874410527373], ['woman', 'wife', -0.07466177632884019], ['woman', 'man', -0.011891653384007661], ['woman', 'secretary', 0.2559946392851451], ['woman', 'fur', -0.63362544370255147], ['boy', 'kid', 0.063180044495780407], ['boy', 'son', -0.085341735919131523], ['boy', 'brother', -0.060713805965574075], ['boy', 'soldier', 0.16562919426898137], ['boy', 'partner', 0.05139662256287636], ['ignorance', 'intelligence', -0.47114733386514196], ['protect', 'defend', 0.13057178083634646], ['sharp', 'dull', -0.81329341241539765], ['trick', 'size', -0.052287981663555527], ['elbow', 'ankle', -0.1463241540270257], ['remind', 'forget', -0.039020514303828691], ['remind', 'sell', -0.20945711015732904], ['task', 'job', -0.16566380017949633], ['task', 'woman', -0.21546359467205978], ['task', 'straw', 0.11895940521970516], ['task', 'highway', 0.082639550079710133], ['danger', 'threat', -0.10291710620573191], ['danger', 'disease', -0.12686831510337626], ['island', 'task', -0.023257592696086071], ['intelligence', 'logic', 0.35285487873464128], ['intelligence', 'insight', 0.25708153998012762], ['intelligence', 'skill', 0.19347818054514931], ['teacher', 'instructor', -0.71226794354232315], ['teacher', 'rabbi', -0.80314946513976171], ['teacher', 'helper', -0.85265978591720604], ['encourage', 'discourage', -0.60071840704335777], ['mad', 'glad', 0.021497540264896031], ['ask', 'plead', 0.49897755645660435], ['ask', 'pray', 0.54585380030818165], ['breathe', 'choke', 0.027292690015409349], ['population', 'people', -0.30833552075740833], ['multiply', 'add', 0.60268958916598869], ['multiply', 'divide', 0.98515619462248516], ['scarce', 'rare', 0.69774864396726866], ['cheek', 'tongue', 0.94901354227526724], ['value', 'belief', 0.19056445713543013], ['beg', 'ask', 0.34821926671053216], ['reflection', 'image', -0.13338325663517558], ['vision', 'perception', 0.15651848403408586], ['disease', 'infection', 0.1008852971036216], ['gossip', 'news', -0.23486230844041245], ['dog', 'horse', 0.067130900386084491], ['dog', 'cat', 0.053601877737198933], ['aggression', 'hostility', -1.0120840481495801], ['house', 'apartment', 0.15886997972142769], ['house', 'barn', -0.47221103916853036], ['house', 'key', 0.13122216879810367], ['house', 'carpet', 0.54059302410457732], ['container', 'mouse', -0.06877554078848469], ['sky', 'universe', 0.03961515991888831], ['trial', 'verdict', 0.21582741765628377], ['listen', 'hear', -0.12606213329809357], ['listen', 'obey', -0.77146676671434378], ['chief', 'mayor', 0.13497357195023163], ['know', 'comprehend', -0.39844395884603045], ['know', 'believe', 0.051867185945942751], ['bad', 'awful', 0.28584714824535595], ['bad', 'terrible', 0.30263449951736909], ['bad', 'immoral', -0.56942216048402994], ['bad', 'guilty', 0.16271470015755973], ['bad', 'terrific', 0.46543785235559554], ['bad', 'great', -0.016784502912919663], ['difficult', 'simple', 0.11465702882163953], ['hound', 'fox', 1.1064815334631763], ['occur', 'happen', -0.11721534822308044], ['cancer', 'sickness', -0.67901791100399045], ['adult', 'guardian', 0.18598576140170486], ['adult', 'baby', -0.11531518908750726], ['floor', 'deck', 0.3024999027389228], ['floor', 'ceiling', 0.11636577310630614], ['take', 'possess', -0.25347748485084942], ['take', 'obtain', 0.57906051124787616], ['take', 'steal', 0.50801682255946545], ['take', 'carry', 0.31604765642796195], ['take', 'receive', 0.24749212204869409], ['take', 'deliver', 0.38197919365736688], ['take', 'leave', 0.22328516077844895], ['sorrow', 'shame', 0.94402158073179354], ['seed', 'mustard', -0.91926575312436132], ['monster', 'demon', -0.81511559516659382], ['expand', 'grow', -0.10032246829592673], ['acquire', 'get', -0.47811499750689812], ['acquire', 'obtain', 0.023876885813436388], ['acquire', 'find', -0.29781311848551084], ['receive', 'give', -0.13398474161763474], ['lady', 'gentleman', -0.76169289037830623], ['collect', 'save', -0.27208468361956228], ['boundary', 'border', 0.79289136079735467], ['hysteria', 'confusion', 1.1619502235193], ['bread', 'flour', -0.81055285369982943], ['bread', 'cheese', -0.026315082031304726], ['diet', 'salad', 0.11964426691741537], ['diet', 'apple', 0.090828399983749364], ['meat', 'bacon', 0.20735146905619395], ['meat', 'sandwich', -0.82867060785212221], ['meat', 'bread', 0.086336392817536023], ['page', 'paragraph', -0.95259255078148541], ['elastic', 'flexible', 0.80292455260618922], ['navy', 'army', -0.1406857769168095], ['apartment', 'hotel', -0.062835251293961392], ['apartment', 'furniture', 0.22258393590637127], ['gun', 'cannon', -0.83172718652835265], ['gun', 'knife', 0.037965170557921368], ['gun', 'dawn', 0.13784708341040286], ['gun', 'trick', 0.11794300762816334], ['gun', 'fur', -0.68424607719580166], ['discover', 'originate', -0.92952086995323491], ['complain', 'argue', -0.074730361734966166], ['locate', 'find', -0.34390232390340003], ['dirty', 'cheap', -0.095051466140237295], ['dirty', 'narrow', -0.012456664379094207], ['movie', 'film', -0.036918652501485738], ['battle', 'conquest', -0.81201136174037103], ['bring', 'send', 0.056057494847856049], ['bring', 'restore', 0.23834123819911923], ['bring', 'complain', 0.37124812136582719], ['mother', 'guardian', 0.40966975069567191], ['mother', 'wife', -0.031113034796454109], ['girl', 'child', -0.046972865179762735], ['girl', 'maid', -0.6362372931994793], ['cat', 'lion', 0.08304211349706847], ['cat', 'pet', 0.081744192466846499], ['cat', 'rabbit', -0.87063026436042179], ['pretend', 'imagine', 0.54104537963476229], ['pretend', 'portray', 0.78212297916392792], ['pretend', 'seem', 0.37100684094427905], ['emotion', 'passion', 0.05391105982065092], ['article', 'journal', 0.056952874348759508], ['bird', 'hawk', -0.84883635439047112], ['bird', 'hen', -0.96776437421518935], ['bird', 'turkey', -0.052305555174688934], ['bold', 'proud', -0.14285876034845657], ['parent', 'adult', -0.10866683804946575], ['quick', 'rapid', 0.019127371865533149], ['sense', 'intuition', -0.6241456507167209], ['reality', 'illusion', -0.77292443036298497], ['reality', 'fantasy', 0.038237952828772848], ['eye', 'tear', 0.08375343797804824], ['phrase', 'word', -0.056871469260155294], ['milk', 'juice', 0.058908817398503288], ['clarify', 'explain', -0.20496347560346351], ['forgive', 'forget', 0.64411817639377666], ['fever', 'illness', -0.033357746079907713], ['terrific', 'mad', -0.091918760869669214], ['wonderful', 'terrific', 0.23880866496097397], ['wonderful', 'great', -0.23305232359551908], ['inspect', 'examine', 0.92394654401462262], ['investigate', 'examine', 0.043199428145248575], ['investigate', 'pursue', -0.018815427610071822], ['proof', 'fact', -0.22315346745594233], ['band', 'orchestra', 0.24569028042358987], ['band', 'parade', 0.26045322091509959], ['join', 'add', -0.0846354724610201], ['join', 'marry', 0.15625590204375861], ['join', 'acquire', 0.14619086688716187], ['huge', 'dumb', -0.57847312763037539], ['pursue', 'persuade', -0.0682939070834232], ['worker', 'employer', 0.027489359287553583], ['worker', 'mechanic', -0.82714726055124643], ['worker', 'camera', -0.11644207314871657], ['heart', 'surgery', 0.24451883491067861], ['long', 'narrow', 0.46667309197594165], ['comfort', 'safety', -0.20543791274586987], ['world', 'globe', 0.36309808422110468], ['death', 'tragedy', 0.31960487064171872], ['death', 'burial', 0.34783685192289404], ['death', 'catastrophe', 0.43744613527497833], ['home', 'state', 0.083368183076005131], ['evening', 'dusk', -0.79076445694269637], ['dreary', 'dull', -0.039538222847135707], ['physician', 'doctor', -0.15701488645363604], ['different', 'normal', 0.17946798603162861], ['send', 'attend', 0.082524577280096878], ['send', 'receive', -0.055492673342413923], ['find', 'disappear', 0.43105379174028968], ['science', 'psychology', 0.41008640102042548], ['vanish', 'disappear', 0.94988640585119022], ['mud', 'dirt', -0.018819470982464281], ['size', 'magnitude', 0.19821914932227536], ['despair', 'misery', 1.1948024913177386], ['leave', 'go', -0.11665622152633848], ['leave', 'ignore', 0.26508739403995385], ['leave', 'wander', -0.44256006339584175], ['leave', 'remain', 0.074939948986274985], ['leave', 'appear', 0.055145989987765986], ['leave', 'enter', 0.09581974800097548], ['joy', 'pride', -0.004613648029334172], ['please', 'entertain', -0.72546399882297674], ['please', 'plead', 0.42719198999262886], ['god', 'spirit', 0.36047610130779972], ['god', 'priest', 0.38317852441811162], ['god', 'devil', 0.4246941711626171], ['god', 'prey', -0.70756155895132977], ['overcome', 'dominate', 0.099098321474123452], ['depth', 'magnitude', 0.055301266743567723], ['action', 'course', -0.049843641229776026], ['shrink', 'grow', -0.30351220826845804], ['deck', 'mouse', -0.19255638681875631], ['conclude', 'decide', -0.16363573102306717], ['night', 'dawn', 0.2352008342603078], ['night', 'day', -0.082807257176144233], ['night', 'chapter', 0.22547308433052304], ['father', 'parent', 0.13882289718985419], ['father', 'brother', 0.087600438987909257], ['father', 'god', -0.11604226980628063], ['father', 'daughter', 0.013713543934613881], ['loop', 'belt', 0.67977190938209464], ['modern', 'ancient', 0.18448321865330897], ['mob', 'crowd', -0.21236065981470809], ['impatient', 'anxious', 0.71137243312712251], ['animal', 'person', -0.29205167005354404], ['accident', 'catastrophe', 0.3656907857905356], ['accident', 'emergency', -0.14302558510775221], ['cattle', 'beef', -0.011523113056657763], ['shelter', 'hut', -0.83115429209692326], ['add', 'build', 0.01887641224909764], ['add', 'divide', 0.36272842182400211], ['sofa', 'chair', 1.1162847431966085], ['right', 'justice', 0.28515459970865642], ['imitate', 'portray', 0.77277036998482274], ['vehicle', 'bus', 0.033195899175510135], ['carry', 'bring', -0.065130738107022523], ['compare', 'analyze', -0.96328313488203499], ['satisfy', 'please', -0.33011355764589645], ['pollution', 'atmosphere', -0.042956788722138484], ['pollution', 'president', -0.38438963688331285], ['box', 'booth', 0.21060959110810273], ['box', 'elevator', -0.73298167407008208], ['box', 'hat', 0.15785813370372281], ['box', 'cigar', -0.63921774623839855], ['pot', 'appliance', -0.99109904229544199], ['communicate', 'pray', -0.021630366772365406], ['communication', 'conversation', 0.066804643465580682], ['communication', 'language', -0.069845879276916989], ['communication', 'television', -0.16601639808219382], ['contemplate', 'think', 0.35682323881933975], ['gather', 'meet', -0.19734307363184733], ['gather', 'attend', -0.12287972978480077], ['agree', 'please', -0.034899913575117125], ['agree', 'differ', 0.32349740449061848], ['agree', 'argue', 0.24574990818076792], ['understand', 'know', -0.1491137048854565], ['understand', 'forgive', -0.50881283532209221], ['understand', 'listen', 0.25926969396540223], ['fraternity', 'baseball', 0.7472379912671796], ['fraternity', 'door', 0.72678925151495832], ['friend', 'buddy', -0.58098288697259193], ['friend', 'guest', 0.1721389669566058], ['friend', 'guy', 0.19268366286351579], ['friend', 'teacher', 0.25462620088914711], ['friend', 'mother', -0.052143219794103857], ['enter', 'owe', 0.19122425895505835], ['become', 'appear', 0.23459916918554669], ['become', 'seem', 0.12664084713115198], ['arrive', 'come', -0.2712168668307573], ['arrive', 'leave', -0.18970422732133585], ['tower', 'bell', -0.023371973031411031], ['clothes', 'fabric', 0.18004754591019534], ['clothes', 'cloth', -0.86937038729189364], ['clothes', 'coat', 0.1190599239718928], ['clothes', 'jacket', 0.1160861911219957], ['clothes', 'closet', 0.26216009587964706], ['clothes', 'drawer', -0.88977643085970382], ['clothes', 'button', 0.028949727498764233], ['cherish', 'keep', 0.39075944373425209], ['priest', 'monk', -0.75255282046923266], ['baby', 'daughter', -0.11665100222951619], ['smart', 'intelligent', 0.063854935583410821], ['smart', 'dumb', -0.82406131015137163], ['verify', 'justify', -0.040141292207396262], ['inexpensive', 'cheap', 0.78656004926597411], ['fee', 'payment', -0.078321195115131914], ['fee', 'salary', -0.10651203277058841], ['tax', 'income', 0.18907649701717055], ['room', 'cell', 0.13207488426858305], ['room', 'bath', 0.27802248257860462], ['room', 'bed', 0.16960197461568516], ['confident', 'sure', -0.16497304152800574], ['hole', 'wife', -0.21763728961912676], ['hole', 'agreement', -0.05402198975561312], ['create', 'make', -0.25141177949571514], ['create', 'build', 0.035755354972051734], ['create', 'imagine', 0.14640043769336586], ['create', 'destroy', 0.2883943550755852], ['money', 'salary', 0.29463529106463326], ['money', 'capital', 0.13080539679352654], ['money', 'diamond', 0.38988046168080182], ['money', 'pearl', 0.49715837454735734], ['marijuana', 'herb', -0.93658636380436988], ['camp', 'cabin', 0.1200668104642606], ['cottage', 'cabin', -0.086089626510172934], ['corporation', 'business', -0.38620150166547518], ['insect', 'bee', 0.030521196088296065], ['violent', 'angry', -0.011202917398955847], ['deliver', 'carry', -0.099542599216201566], ['short', 'long', -0.19224500563219671], ['nerve', 'brain', -0.1271048545372846], ['employer', 'employee', 0.0048319768928859474], ['dull', 'funny', 0.78405748343479242], ['organ', 'liver', 0.029436152446274733], ['flower', 'violet', -1.0325993040567623], ['flower', 'bulb', -0.97517186869862726], ['flower', 'bush', -0.36844417178118327], ['flower', 'endurance', -0.95443523959491916], ['menu', 'order', -0.31058141640632009], ['large', 'big', -0.11107193085144296], ['large', 'huge', 0.018442971183563195], ['large', 'flexible', 0.26638454708823112], ['curve', 'angle', 1.0711252185272038], ['stomach', 'waist', 0.12235978589736796], ['stomach', 'vein', -0.82716183496202866], ['stomach', 'bedroom', 0.04402858980859925], ['think', 'rationalize', -0.32244592558921958], ['think', 'decide', 0.21937224584242365], ['think', 'inquire', -0.34192795886724081], ['opinion', 'idea', 0.058623197012082073], ['opinion', 'choice', 0.02929491412306362], ['presence', 'door', -0.14562182694093995], ['bed', 'crib', -0.75275824321777307], ['bed', 'furniture', 0.10705632077978677], ['bed', 'chair', 0.12912624781694326], ['bed', 'couch', -0.74929474904866655], ['bed', 'bedroom', 0.063956451855734286], ['bed', 'blanket', 0.08732145788484047], ['bed', 'hospital', -0.16420449328312792], ['realize', 'discover', 0.11745496317153581], ['get', 'buy', 0.17326841141999161], ['get', 'put', 0.067685823334366013], ['get', 'remain', 0.2956033577865913], ['rhythm', 'melody', -0.84825462882545288], ['shoulder', 'head', -0.12992152908683963], ['ray', 'sunshine', -0.0093937920228839289], ['shore', 'coast', -0.3201097776825037], ['win', 'succeed', 0.24957454537185608], ['win', 'accomplish', -0.42011368854103814], ['win', 'dominate', 0.26492823929426024], ['fail', 'discourage', -0.82710440666931984], ['attend', 'arrive', 0.12520793293344035], ['owe', 'lend', 0.12588257949274073], ['lose', 'fail', 0.30247006185885184], ['lose', 'keep', -0.074541933651747883], ['lose', 'get', -0.24027830994705113], ['bowl', 'tail', 0.15201954511971394], ['song', 'story', -0.088010332749203002], ['medium', 'news', -0.30665979493488393], ['beauty', 'age', -0.19658744817417251], ['beautiful', 'wonderful', -0.025937575342974029], ['effort', 'difficulty', 0.060792659807068716], ['try', 'think', -0.1459613216376372], ['club', 'society', 0.099336026249051912], ['helper', 'maid', 0.0049668013124541943], ['appoint', 'elect', 0.051362303192757253], ['guilty', 'ashamed', -0.58921269042812963], ['organize', 'become', 0.36490515298469806], ['come', 'attend', 0.08429242542725035], ['come', 'bring', 0.050251889909972647], ['machine', 'engine', 0.012220450673781968], ['plead', 'beg', -0.89204480308124001], ['proclaim', 'announce', 0.80583277838536826], ['beast', 'animal', 0.85284637982503053], ['fun', 'football', -0.089625561448506197], ['friendly', 'generous', 0.1560904401435188], ['liquor', 'band', 0.73821054407901254], ['liquor', 'century', 0.66882936284390482], ['bubble', 'suds', -1.0014254132283487], ['goal', 'quest', 0.11827134351247359], ['pact', 'agreement', -0.19969985521817435], ['pact', 'condition', -0.13952717663694614], ['old', 'new', -0.20352594131323087], ['old', 'fresh', 0.21759431755836012], ['era', 'decade', 0.01378293891563942], ['attach', 'join', 0.63470547003538336], ['determine', 'predict', 0.17430328955401464], ['plane', 'jet', 0.2188464043687528], ['plane', 'airport', -0.00040998042548334723], ['acknowledge', 'notify', -0.71732151010678447], ['fresh', 'wide', -0.11144316767605567], ['activity', 'movement', -0.072215086507275927], ['behave', 'obey', -0.85075442822215486], ['achieve', 'accomplish', -0.56124153973233692], ['achieve', 'succeed', 0.037522868692095201], ['achieve', 'try', -0.18740300752822492], ['school', 'grade', 0.26155642051592132], ['school', 'law', -0.018103109111836879], ['capability', 'competence', -1.0869776480550799], ['competence', 'ability', 0.61022478703084015], ['actress', 'actor', -0.044134852109638523], ['alcohol', 'gin', -0.83140240891865247], ['alcohol', 'wine', -0.044580822579113999], ['alcohol', 'whiskey', -0.74840101626475874], ['alcohol', 'brandy', -0.87530228347925298], ['alcohol', 'cocktail', 0.17456667579643614], ['analyze', 'evaluate', 1.2491298163719158], ['ankle', 'window', -0.05511953609790865], ['apple', 'lemon', -0.87149510491768734], ['apple', 'juice', -0.062192838246065918], ['apple', 'candy', 0.060563735124745222], ['apple', 'sauce', 0.10792570968256676], ['apple', 'sunshine', 0.014250984618955798], ['archbishop', 'bishop', -0.10534771726380221], ['arithmetic', 'rhythm', 0.94277815399276843], ['attorney', 'lawyer', 0.10884058692937337], ['august', 'month', -0.060344856868741914], ['aunt', 'nephew', 0.7855527082139977], ['aviation', 'flight', -0.16305803219946746], ['bacon', 'bean', -1.0384969825349604], ['ballad', 'song', 0.66433558407027249], ['basketball', 'baseball', -0.11046922924985481], ['bathroom', 'bedroom', 0.027438026307587293], ['bathroom', 'kitchen', -0.18444867821343003], ['bean', 'coffee', 0.84147072042435234], ['bee', 'queen', 0.86637322912882375], ['bee', 'ant', -0.0065126097151289031], ['beer', 'alcohol', 0.021561886489646298], ['beer', 'beverage', 0.29261881240309506], ['beer', 'champagne', 0.20644765204593796], ['bell', 'door', -0.21277680143395727], ['bible', 'hymn', -0.97070637451841346], ['bicycle', 'bedroom', -0.067378564232207339], ['birthday', 'date', -0.012612273472230484], ['birthday', 'year', -0.37440034996359195], ['boat', 'deck', 0.33622661965544509], ['boat', 'car', -0.19320642166462854], ['boat', 'anchor', 0.21356796661360811], ['bone', 'jaw', 0.14108306141661764], ['bone', 'knee', -0.090714821233369491], ['bone', 'teeth', -0.23588253900478229], ['bone', 'ankle', -0.074525297604536078], ['bone', 'elbow', 0.052859404637292329], ['bone', 'neck', -0.085572523924021482], ['bottle', 'container', -0.047625269644077761], ['breakfast', 'supper', -0.82339976857863917], ['breakfast', 'bacon', 0.084549296582359545], ['bride', 'princess', 0.85090233627381995], ['brow', 'eye', 0.88114076939395147], ['buddy', 'companion', 1.1062722713188187], ['butter', 'potato', -0.9672257636465833], ['calf', 'bull', 0.88478044403355227], ['camera', 'president', -0.24294202142320209], ['canyon', 'valley', -0.30172181954650057], ['card', 'bridge', 0.079884278361664229], ['ceiling', 'cathedral', -0.014227903505927841], ['cent', 'wife', -0.40628032866223585], ['cent', 'size', -0.17283898839508716], ['cereal', 'wheat', 0.98867033409617555], ['chair', 'bench', -0.14351100996755406], ['charcoal', 'coal', 0.86794089313565426], ['chemistry', 'theory', -0.043409061910599789], ['chicken', 'steak', -0.77457765104779952], ['chicken', 'rice', 0.003548477410070916], ['chocolate', 'pie', 0.18354300729030371], ['church', 'choir', -0.68343280351579416], ['classroom', 'hallway', -0.96055093933960656], ['college', 'class', -0.051920469368408106], ['college', 'profession', 0.39425394258077517], ['composer', 'writer', -0.044049729247303659], ['cooperate', 'participate', -0.13978464550472225], ['cooperate', 'join', -0.37488392946456628], ['cop', 'sheriff', -0.022369923173059192], ['couch', 'baseball', 0.79028763463205642], ['cousin', 'uncle', 0.083432848299596074], ['cow', 'cattle', 0.066996535412723546], ['cow', 'goat', -0.94926846222319927], ['crib', 'cradle', -0.073196345665175855], ['dad', 'mother', -0.15331320435296014], ['daughter', 'kid', 0.16045348422204775], ['decade', 'century', -0.026230493894978224], ['dentist', 'colonel', 1.0838241736237322], ['disc', 'computer', -0.19502465645400591], ['disorganize', 'organize', -0.0097512328226994072], ['dollar', 'people', -0.29978546660939642], ['driver', 'pilot', 0.092649085739353154], ['drizzle', 'rain', 0.94329395807877603], ['elegance', 'style', 0.83262133147174744], ['flu', 'fever', 0.19204839445444755], ['foot', 'head', -0.018925603043392414], ['frustration', 'anger', -0.10839869657215218], ['glass', 'crystal', 0.33473585740772016], ['grass', 'moss', 0.27872152263723216], ['grass', 'blade', -0.81970528605838489], ['guitar', 'drum', 0.047452841280270164], ['hallway', 'corridor', 1.2001548247574947], ['happiness', 'peace', -0.20685839435935449], ['happiness', 'luck', -0.081933843980968035], ['hat', 'coat', 0.037836248284044416], ['hen', 'turkey', 0.88423345956233401], ['hip', 'lip', -0.69407994823007435], ['horn', 'drum', -0.24321482542969441], ['hose', 'garden', 0.87249761920977953], ['kidney', 'organ', 0.038721707513833081], ['lemon', 'tea', 0.8484991385067957], ['lens', 'camera', 0.88814529574675216], ['linen', 'fabric', 1.1260419770065759], ['liver', 'lung', 0.1125066562691508], ['meal', 'dinner', -0.091482959766194583], ['meal', 'waist', -0.035266534615505662], ['men', 'fraternity', -0.62706325730328594], ['metal', 'aluminum', 0.19922936048078199], ['meter', 'yard', -0.014061278062079907], ['meter', 'inch', -0.023896780905973358], ['mink', 'fur', -0.0011948390452989344], ['motel', 'inn', 1.0948060808397884], ['motor', 'engine', -0.08212938876043907], ['motor', 'boat', -0.22657055406326698], ['mouse', 'cat', -0.1099906895302496], ['mouse', 'management', -0.26603744493793791], ['music', 'melody', -0.62092091941181238], ['neck', 'spine', 0.11741064672502688], ['newspaper', 'information', -0.080357838330250786], ['oak', 'maple', 0.046122417417290507], ['orthodontist', 'dentist', 0.0023061208708643477], ['polyester', 'cotton', 0.87564533438674452], ['president', 'mayor', 0.31379927073239955], ['rabbi', 'minister', 0.59341449184930184], ['rail', 'fence', 0.17872105570818775], ['rat', 'mouse', 0.99623015450049657], ['rice', 'bean', -0.89730834815571203], ['rice', 'boy', -0.22036373607996662], ['roof', 'ceiling', 0.022123664621172878], ['roof', 'floor', -0.079017575084980862], ['salad', 'vinegar', -0.95404669918119112], ['sandwich', 'lunch', 0.85477378503605728], ['sheep', 'lamb', 0.085684074231050289], ['sheep', 'cattle', 0.048566067877812813], ['sinner', 'saint', 1.0374607426257647], ['snow', 'weather', -0.064689353196166977], ['snow', 'storm', -0.0044783450706979977], ['son', 'father', 0.018868451826056898], ['south', 'north', 0.0095156910773255277], ['spoon', 'cup', 0.73657552839694507], ['steak', 'meat', 0.79224354845353862], ['steeple', 'chapel', 0.85480990748706809], ['sugar', 'honey', 0.28167479770437076], ['sun', 'sky', 0.16147989905727567], ['supper', 'meal', 0.99412717564744479], ['sweater', 'jacket', 0.80723230349214958], ['taxi', 'cab', 0.15658316230137714], ['throat', 'nose', -0.13077328939469623], ['tin', 'aluminum', 1.05907169662951], ['tin', 'metal', 0.81173287216973034], ['tobacco', 'cigarette', 0.10979121247140178], ['toe', 'finger', 0.019158669968049935], ['tree', 'maple', 0.29320253474809732], ['uncle', 'aunt', -0.63323337359065945], ['unnecessary', 'necessary', -0.22370535459262086], ['violin', 'instrument', 0.92495193167222567], ['vitamin', 'iron', 0.148964590869193], ['wagon', 'carriage', 0.0074482295434608048], ['wagon', 'container', 1.0375446574564808], ['weekend', 'week', -0.072767928755899547], ['whiskey', 'gin', -0.003638396437794178], ['whiskey', 'champagne', 0.90427958320697943], ['window', 'door', -0.034338695133168784], ['wine', 'liquor', -0.78630233915271575], ['wine', 'brandy', -0.87892810161492285], ['winter', 'season', -0.14438366475481779], ['winter', 'summer', -0.052114355356881248], ['wire', 'cord', 0.17161150635324773], ['yard', 'inch', 0.07455652746610042]]\n"
     ]
    }
   ],
   "source": [
    "print(final_result)"
   ]
  },
  {
   "cell_type": "code",
   "execution_count": null,
   "metadata": {
    "collapsed": true
   },
   "outputs": [],
   "source": []
  }
 ],
 "metadata": {
  "kernelspec": {
   "display_name": "Python 3",
   "language": "python",
   "name": "python3"
  },
  "language_info": {
   "codemirror_mode": {
    "name": "ipython",
    "version": 3
   },
   "file_extension": ".py",
   "mimetype": "text/x-python",
   "name": "python",
   "nbconvert_exporter": "python",
   "pygments_lexer": "ipython3",
   "version": "3.6.1"
  }
 },
 "nbformat": 4,
 "nbformat_minor": 2
}
