{
 "cells": [
  {
   "cell_type": "code",
   "execution_count": 240,
   "metadata": {},
   "outputs": [],
   "source": [
    "%matplotlib inline\n",
    "import tensorflow as tf\n",
    "import tensorflow_hub as hub\n",
    "import matplotlib.pyplot as plt\n",
    "import numpy as np\n",
    "import pandas as pd\n",
    "from sklearn.manifold import TSNE\n",
    "from tensorflow.examples.tutorials.mnist import input_data\n",
    "from tensorflow.contrib.tensorboard.plugins import projector\n",
    "import os\n",
    "from scipy import spatial\n",
    "from collections import defaultdict\n",
    "tf.logging.set_verbosity(tf.logging.ERROR)\n",
    "import datetime\n",
    "import timeit \n"
   ]
  },
  {
   "cell_type": "code",
   "execution_count": 2,
   "metadata": {},
   "outputs": [
    {
     "name": "stdout",
     "output_type": "stream",
     "text": [
      "INFO:tensorflow:Using /var/folders/s_/bvqcbl7954v3yyk7yxn7bhnw0000gn/T/tfhub_modules to cache modules.\n"
     ]
    }
   ],
   "source": [
    "elmo = hub.Module(\"https://tfhub.dev/google/elmo/2\", trainable=True)"
   ]
  },
  {
   "cell_type": "code",
   "execution_count": 219,
   "metadata": {},
   "outputs": [
    {
     "name": "stdout",
     "output_type": "stream",
     "text": [
      "/Users/nathanielschub/Desktop/MIDS/W266/smartThesaurus\n"
     ]
    }
   ],
   "source": [
    "#os.chdir('W266/smartThesaurus')\n",
    "!pwd\n",
    "sent_1= pd.read_csv('Code/sentence_generator/output.txt', sep = ',', names = ['pair', 'word', 'sentence'])\n",
    "sent_2= pd.read_csv('Code/sentence_generator/output_2.txt', sep = ',', names = ['pair', 'word', 'sentence'])"
   ]
  },
  {
   "cell_type": "code",
   "execution_count": 220,
   "metadata": {},
   "outputs": [
    {
     "name": "stdout",
     "output_type": "stream",
     "text": [
      "5\n",
      "10\n",
      "15\n",
      "20\n",
      "25\n",
      "30\n",
      "35\n",
      "40\n"
     ]
    },
    {
     "ename": "ValueError",
     "evalue": "'arm' is not in list",
     "output_type": "error",
     "traceback": [
      "\u001b[0;31m---------------------------------------------------------------------------\u001b[0m",
      "\u001b[0;31mValueError\u001b[0m                                Traceback (most recent call last)",
      "\u001b[0;32m<ipython-input-220-669fc3ab4bdc>\u001b[0m in \u001b[0;36m<module>\u001b[0;34m()\u001b[0m\n\u001b[1;32m      9\u001b[0m     \u001b[0;32mfor\u001b[0m \u001b[0msent\u001b[0m \u001b[0;32min\u001b[0m \u001b[0msents_1\u001b[0m\u001b[0;34m:\u001b[0m\u001b[0;34m\u001b[0m\u001b[0m\n\u001b[1;32m     10\u001b[0m         \u001b[0mx\u001b[0m \u001b[0;34m=\u001b[0m \u001b[0msent\u001b[0m\u001b[0;34m.\u001b[0m\u001b[0msplit\u001b[0m\u001b[0;34m(\u001b[0m\u001b[0;34m)\u001b[0m\u001b[0;34m\u001b[0m\u001b[0m\n\u001b[0;32m---> 11\u001b[0;31m         \u001b[0mword_1_indices\u001b[0m\u001b[0;34m.\u001b[0m\u001b[0mappend\u001b[0m\u001b[0;34m(\u001b[0m\u001b[0mx\u001b[0m\u001b[0;34m.\u001b[0m\u001b[0mindex\u001b[0m\u001b[0;34m(\u001b[0m\u001b[0mword_1\u001b[0m\u001b[0;34m)\u001b[0m\u001b[0;34m)\u001b[0m\u001b[0;34m\u001b[0m\u001b[0m\n\u001b[0m\u001b[1;32m     12\u001b[0m \u001b[0;34m\u001b[0m\u001b[0m\n\u001b[1;32m     13\u001b[0m     \u001b[0msents_2\u001b[0m \u001b[0;34m=\u001b[0m \u001b[0mnp\u001b[0m\u001b[0;34m.\u001b[0m\u001b[0masarray\u001b[0m\u001b[0;34m(\u001b[0m\u001b[0msent_2\u001b[0m\u001b[0;34m.\u001b[0m\u001b[0mloc\u001b[0m\u001b[0;34m[\u001b[0m\u001b[0msent_2\u001b[0m\u001b[0;34m[\u001b[0m\u001b[0;34m'pair'\u001b[0m\u001b[0;34m]\u001b[0m \u001b[0;34m==\u001b[0m \u001b[0mi\u001b[0m\u001b[0;34m]\u001b[0m\u001b[0;34m.\u001b[0m\u001b[0msentence\u001b[0m\u001b[0;34m)\u001b[0m\u001b[0;34m\u001b[0m\u001b[0m\n",
      "\u001b[0;31mValueError\u001b[0m: 'arm' is not in list"
     ]
    }
   ],
   "source": [
    "distances = []       \n",
    "start = timeit.default_timer()\n",
    "for i in range(1, len(np.unique(sent_1.pair))+1):\n",
    "    pair_no = i\n",
    "\n",
    "    sents_1= np.asarray(sent_1.loc[sent_1['pair'] == i].sentence)\n",
    "    word_1 = np.unique(sent_1.loc()[sent_1['pair'] == i].word)[0]\n",
    "    word_1_indices = []\n",
    "    for sent in sents_1:\n",
    "        x = sent.split()\n",
    "        word_1_indices.append(x.index(word_1))\n",
    "\n",
    "    sents_2 = np.asarray(sent_2.loc[sent_2['pair'] == i].sentence)\n",
    "    word_2 = np.unique(sent_2.loc()[sent_1['pair'] == i].word)[0]\n",
    "    word_2_indices = []\n",
    "    for sent in sents_2:\n",
    "        x = sent.split()\n",
    "        word_2_indices.append(x.index(word_2))\n",
    "\n",
    "\n",
    "    embeddings_1 = elmo(sents_1,\n",
    "    signature=\"default\",\n",
    "    as_dict=True)[\"elmo\"] \n",
    "\n",
    "    embeddings_2 = elmo(sents_2,\n",
    "    signature=\"default\",\n",
    "    as_dict=True)[\"elmo\"] \n",
    "\n",
    "    init = tf.initialize_all_variables()\n",
    "    sess = tf.Session()\n",
    "    sess.run(init)\n",
    "    embed_1 = sess.run(embeddings_1)\n",
    "    embed_2 = sess.run(embeddings_2)\n",
    "\n",
    "    target_embeddings_1 = []\n",
    "    for i in range(len(embed_1)):\n",
    "        target_embeddings_1.append(embed_1[i][word_1_indices[i]])\n",
    "        mean_embedding_1 = np.mean(np.asarray(target_embeddings_1), axis = 0)\n",
    "\n",
    "    target_embeddings_2 = []\n",
    "    for i in range(len(embed_2)):\n",
    "        target_embeddings_2.append(embed_2[i][word_2_indices[i]])\n",
    "        mean_embedding_2 = np.mean(np.asarray(target_embeddings_2), axis = 0)\n",
    "\n",
    "    distance = spatial.distance.cosine(mean_embedding_1, mean_embedding_2)\n",
    "    distances.append((pair_no, distance))\n",
    "\n",
    "    if pair_no%5==0:\n",
    "        current_time = timeit.default_timer()\n",
    "        delta = current_time - start\n",
    "        print(pair_no, delta)\n",
    "        \n"
   ]
  },
  {
   "cell_type": "code",
   "execution_count": 218,
   "metadata": {},
   "outputs": [
    {
     "name": "stdout",
     "output_type": "stream",
     "text": [
      "[(1, 0.25115305185317993), (2, 0.2510792016983032), (3, 0.508088618516922), (4, 0.342008113861084), (5, 0.5671381652355194), (6, 0.4221990704536438), (7, 0.5853206515312195), (8, 0.49459171295166016), (9, 0.4570755362510681), (10, 0.44432902336120605), (11, 0.6451398134231567), (12, 0.375154972076416), (13, 0.6812421679496765), (14, 0.5565555095672607), (15, 0.5848011076450348), (16, 0.4463500380516052), (17, 0.4000183939933777), (18, 0.5299813151359558), (19, 0.21524816751480103), (20, 0.6620836853981018), (21, 0.7077379524707794), (22, 0.7153369188308716), (23, 0.5808465778827667)]\n"
     ]
    }
   ],
   "source": [
    "print(distances)"
   ]
  },
  {
   "cell_type": "code",
   "execution_count": 208,
   "metadata": {},
   "outputs": [
    {
     "name": "stdout",
     "output_type": "stream",
     "text": [
      "['let me hear the story or tell me the story'\n",
      " 'how many times will you tell me the same old story again'\n",
      " 'the story is handed down by tradition'\n",
      " 'the story about the new finance minister'\n",
      " 'i heard the story from my friend'\n",
      " 'a pansori singer tells a story using songs'\n",
      " 'she lives in that twostory building whose roof is red'\n",
      " 'write a story in your minds eye'\n",
      " 'this story is written in plain language' 'tell me the whole story of it']\n"
     ]
    }
   ],
   "source": [
    "print(sents_2)"
   ]
  },
  {
   "cell_type": "code",
   "execution_count": 231,
   "metadata": {},
   "outputs": [
    {
     "ename": "ImportError",
     "evalue": "cannot import name 'fromtimestamp'",
     "output_type": "error",
     "traceback": [
      "\u001b[0;31m---------------------------------------------------------------------------\u001b[0m",
      "\u001b[0;31mImportError\u001b[0m                               Traceback (most recent call last)",
      "\u001b[0;32m<ipython-input-231-9bab76ab6954>\u001b[0m in \u001b[0;36m<module>\u001b[0;34m()\u001b[0m\n\u001b[0;32m----> 1\u001b[0;31m \u001b[0;32mfrom\u001b[0m \u001b[0mdatetime\u001b[0m \u001b[0;32mimport\u001b[0m \u001b[0mfromtimestamp\u001b[0m\u001b[0;34m\u001b[0m\u001b[0m\n\u001b[0m\u001b[1;32m      2\u001b[0m \u001b[0mfromtimestamp\u001b[0m\u001b[0;34m(\u001b[0m\u001b[0mtimestamp\u001b[0m\u001b[0;34m)\u001b[0m\u001b[0;34m\u001b[0m\u001b[0m\n",
      "\u001b[0;31mImportError\u001b[0m: cannot import name 'fromtimestamp'"
     ]
    }
   ],
   "source": [
    "from datetime import fromtimestamp\n",
    "fromtimestamp(timestamp)"
   ]
  },
  {
   "cell_type": "code",
   "execution_count": 233,
   "metadata": {},
   "outputs": [
    {
     "name": "stdout",
     "output_type": "stream",
     "text": [
      "0.007909388979896903\n"
     ]
    }
   ],
   "source": [
    "import timeit \n",
    "print(timeit.timeit())"
   ]
  },
  {
   "cell_type": "code",
   "execution_count": 237,
   "metadata": {},
   "outputs": [
    {
     "name": "stdout",
     "output_type": "stream",
     "text": [
      "1920256.479203138\n"
     ]
    }
   ],
   "source": [
    "start = timeit.default_timer()\n",
    "print(start)"
   ]
  },
  {
   "cell_type": "code",
   "execution_count": 238,
   "metadata": {},
   "outputs": [
    {
     "name": "stdout",
     "output_type": "stream",
     "text": [
      "1920265.535162057\n"
     ]
    }
   ],
   "source": [
    "stop = timeit.default_timer()\n",
    "print(stop)"
   ]
  },
  {
   "cell_type": "code",
   "execution_count": 239,
   "metadata": {},
   "outputs": [
    {
     "name": "stdout",
     "output_type": "stream",
     "text": [
      "9.055958918994293\n"
     ]
    }
   ],
   "source": [
    "print(stop-start)"
   ]
  },
  {
   "cell_type": "code",
   "execution_count": null,
   "metadata": {},
   "outputs": [],
   "source": []
  }
 ],
 "metadata": {
  "kernelspec": {
   "display_name": "Python 3",
   "language": "python",
   "name": "python3"
  },
  "language_info": {
   "codemirror_mode": {
    "name": "ipython",
    "version": 3
   },
   "file_extension": ".py",
   "mimetype": "text/x-python",
   "name": "python",
   "nbconvert_exporter": "python",
   "pygments_lexer": "ipython3",
   "version": "3.6.5"
  }
 },
 "nbformat": 4,
 "nbformat_minor": 2
}
