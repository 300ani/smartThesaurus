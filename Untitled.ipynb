{
 "cells": [
  {
   "cell_type": "code",
   "execution_count": 27,
   "metadata": {},
   "outputs": [
    {
     "name": "stdout",
     "output_type": "stream",
     "text": [
      "/Users/nathanielschub/Desktop/MIDS/W266/smartThesaurus/datasets/1-billion-word-LM_corpus\n"
     ]
    }
   ],
   "source": [
    "!pwd"
   ]
  },
  {
   "cell_type": "code",
   "execution_count": 9,
   "metadata": {},
   "outputs": [
    {
     "name": "stdout",
     "output_type": "stream",
     "text": [
      "/Users/nathanielschub/Desktop/MIDS/W266/smartThesaurus\n",
      "/Users/nathanielschub/Desktop/MIDS/W266/smartThesaurus/datasets/1-billion-word-LM_corpus\n"
     ]
    }
   ],
   "source": [
    "!pwd\n",
    "import os\n",
    "os.chdir('datasets/1-billion-word-LM_corpus')\n",
    "!pwd\n",
    "file = open('news.en-00001-of-00100')\n",
    "corpus_first = file.read()[:100]"
   ]
  },
  {
   "cell_type": "code",
   "execution_count": 41,
   "metadata": {},
   "outputs": [],
   "source": [
    "from nltk.tokenize import word_tokenize\n",
    "from collections import defaultdict\n",
    "counts_X = defaultdict(lambda: defaultdict(lambda: 0.0))\n",
    "context_totals_X = dict()\n",
    "wordset_X = set()\n",
    "words_X = []\n",
    "\n",
    "\n",
    "def train_counts(corpus):\n",
    "    words = word_tokenize(corpus.lower())\n",
    "    counts = defaultdict(lambda: defaultdict(lambda: 0.0))\n",
    "    context_totals = dict()\n",
    "    w_1, w_2 = None, None\n",
    "    for word in words:\n",
    "        wordset.add(word)\n",
    "        if w_1 is not None and w_2 is not None:\n",
    "            counts[(w_2,w_1)][word] += 1\n",
    "                # Update context\n",
    "        w_2 = w_1\n",
    "        w_1 = word\n",
    "    for key, value in counts.items():\n",
    "        context_totals[key] = sum(value.values())\n",
    "    counts_X.update(counts)\n",
    "    context_totals_X.update(counts)\n"
   ]
  },
  {
   "cell_type": "code",
   "execution_count": 49,
   "metadata": {},
   "outputs": [
    {
     "name": "stdout",
     "output_type": "stream",
     "text": [
      "I think everybody knows that .\n",
      "Two students contacted The Sunday Times last week after reading a report in the paper describing how another undergraduate at Kingston , Joanna al-Zahawi , 22 , had reso\n"
     ]
    }
   ],
   "source": [
    "file = open(file_list[0]).read()\n",
    "print(file[:200])"
   ]
  },
  {
   "cell_type": "code",
   "execution_count": 52,
   "metadata": {},
   "outputs": [],
   "source": [
    "file_list = []\n",
    "for filename in os.listdir(os.getcwd()):\n",
    "    file_list.append(str(filename))\n",
    "for i in file_list:\n",
    "    file = open('news.en-00001-of-00100').read()\n",
    "    train_counts(file)  "
   ]
  },
  {
   "cell_type": "code",
   "execution_count": 31,
   "metadata": {},
   "outputs": [],
   "source": [
    "def next_proba(target_word, context, k):\n",
    "    x=target_word\n",
    "    \n",
    "    C_abc = 0.0\n",
    "    if counts.get(context, 0.0) == 0.0:\n",
    "        C_abc = 0.0\n",
    "    else:\n",
    "        C_abc = counts.get(context, 0.0).get(x, 0.0)\n",
    "                \n",
    "    C_ab = context_totals.get(context, 0.0)\n",
    "        \n",
    "    return (C_abc +k)/(C_ab +(k*V))"
   ]
  },
  {
   "cell_type": "code",
   "execution_count": null,
   "metadata": {},
   "outputs": [],
   "source": [
    "next_proba('hello', ('hello', 'world')"
   ]
  },
  {
   "cell_type": "code",
   "execution_count": 39,
   "metadata": {},
   "outputs": [
    {
     "data": {
      "text/plain": [
       "defaultdict(<function __main__.<lambda>.<locals>.<lambda>()>, {})"
      ]
     },
     "execution_count": 39,
     "metadata": {},
     "output_type": "execute_result"
    }
   ],
   "source": [
    "#context_totals[('the','u.s.')]\n",
    "counts[('chicago','bulls')]"
   ]
  },
  {
   "cell_type": "code",
   "execution_count": null,
   "metadata": {},
   "outputs": [],
   "source": []
  }
 ],
 "metadata": {
  "kernelspec": {
   "display_name": "Python 3",
   "language": "python",
   "name": "python3"
  },
  "language_info": {
   "codemirror_mode": {
    "name": "ipython",
    "version": 3
   },
   "file_extension": ".py",
   "mimetype": "text/x-python",
   "name": "python",
   "nbconvert_exporter": "python",
   "pygments_lexer": "ipython3",
   "version": "3.6.5"
  }
 },
 "nbformat": 4,
 "nbformat_minor": 2
}
