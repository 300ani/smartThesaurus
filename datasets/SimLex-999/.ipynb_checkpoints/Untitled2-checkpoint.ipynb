{
 "cells": [
  {
   "cell_type": "code",
   "execution_count": 17,
   "metadata": {},
   "outputs": [],
   "source": [
    "%matplotlib inline\n",
    "import tensorflow as tf\n",
    "import tensorflow_hub as hub\n",
    "import matplotlib.pyplot as plt\n",
    "import numpy as np\n",
    "from sklearn.manifold import TSNE\n",
    "from tensorflow.examples.tutorials.mnist import input_data\n",
    "from tensorflow.contrib.tensorboard.plugins import projector\n",
    "import os"
   ]
  },
  {
   "cell_type": "code",
   "execution_count": 13,
   "metadata": {},
   "outputs": [
    {
     "name": "stdout",
     "output_type": "stream",
     "text": [
      "INFO:tensorflow:Downloading TF-Hub Module 'https://tfhub.dev/google/elmo/2'.\n",
      "INFO:tensorflow:Downloading https://tfhub.dev/google/elmo/2: 30.35MB\n",
      "INFO:tensorflow:Downloading https://tfhub.dev/google/elmo/2: 40.35MB\n",
      "INFO:tensorflow:Downloading https://tfhub.dev/google/elmo/2: 60.35MB\n",
      "INFO:tensorflow:Downloading https://tfhub.dev/google/elmo/2: 80.35MB\n",
      "INFO:tensorflow:Downloading https://tfhub.dev/google/elmo/2: 100.35MB\n",
      "INFO:tensorflow:Downloading https://tfhub.dev/google/elmo/2: 120.35MB\n",
      "INFO:tensorflow:Downloading https://tfhub.dev/google/elmo/2: 140.35MB\n",
      "INFO:tensorflow:Downloading https://tfhub.dev/google/elmo/2: 160.35MB\n",
      "INFO:tensorflow:Downloading https://tfhub.dev/google/elmo/2: 180.35MB\n",
      "INFO:tensorflow:Downloading https://tfhub.dev/google/elmo/2: 210.35MB\n",
      "INFO:tensorflow:Downloading https://tfhub.dev/google/elmo/2: 230.35MB\n",
      "INFO:tensorflow:Downloading https://tfhub.dev/google/elmo/2: 260.35MB\n",
      "INFO:tensorflow:Downloading https://tfhub.dev/google/elmo/2: 280.35MB\n",
      "INFO:tensorflow:Downloading https://tfhub.dev/google/elmo/2: 300.35MB\n",
      "INFO:tensorflow:Downloading https://tfhub.dev/google/elmo/2: 330.35MB\n",
      "INFO:tensorflow:Downloading https://tfhub.dev/google/elmo/2: 350.35MB\n",
      "INFO:tensorflow:Downloaded https://tfhub.dev/google/elmo/2, Total size: 357.40MB\n",
      "INFO:tensorflow:Downloaded TF-Hub Module 'https://tfhub.dev/google/elmo/2'.\n",
      "INFO:tensorflow:Saver not created because there are no variables in the graph to restore\n"
     ]
    }
   ],
   "source": [
    "elmo = hub.Module(\"https://tfhub.dev/google/elmo/2\", trainable=True)\n",
    "embeddings = elmo(\n",
    "[\"the cat is on the mat\", \"dogs are in the fog\"],\n",
    "signature=\"default\",\n",
    "as_dict=True)[\"elmo\"]"
   ]
  },
  {
   "cell_type": "code",
   "execution_count": 14,
   "metadata": {},
   "outputs": [
    {
     "name": "stdout",
     "output_type": "stream",
     "text": [
      "INFO:tensorflow:Saver not created because there are no variables in the graph to restore\n"
     ]
    }
   ],
   "source": [
    "elmo = hub.Module(\"https://tfhub.dev/google/elmo/2\", trainable=True)\n",
    "embeddings = elmo(\n",
    "[\"the cat is on the mat\", \"dogs are in the fog\"],\n",
    "signature=\"default\",\n",
    "as_dict=True)[\"elmo\"]"
   ]
  },
  {
   "cell_type": "code",
   "execution_count": 15,
   "metadata": {},
   "outputs": [
    {
     "name": "stdout",
     "output_type": "stream",
     "text": [
      "WARNING:tensorflow:From /Users/nathanielschub/anaconda3/lib/python3.6/site-packages/tensorflow/python/util/tf_should_use.py:118: initialize_all_variables (from tensorflow.python.ops.variables) is deprecated and will be removed after 2017-03-02.\n",
      "Instructions for updating:\n",
      "Use `tf.global_variables_initializer` instead.\n",
      "Argentina\n",
      "[ 0.30815458  0.26630393  0.2356131  ... -0.37085745  0.16490483\n",
      " -0.07245971]\n"
     ]
    }
   ],
   "source": [
    "init = tf.initialize_all_variables()\n",
    "sess = tf.Session()\n",
    "sess.run(init)\n",
    "\n",
    "print(\"Argentina\")\n",
    "print(sess.run(embeddings[0][0]))"
   ]
  },
  {
   "cell_type": "code",
   "execution_count": 16,
   "metadata": {},
   "outputs": [
    {
     "name": "stdout",
     "output_type": "stream",
     "text": [
      "/Users/nathanielschub/Desktop/MIDS/W266/smartThesaurus_testing/datasets/SimLex-999\n"
     ]
    }
   ],
   "source": [
    "cd"
   ]
  },
  {
   "cell_type": "code",
   "execution_count": null,
   "metadata": {},
   "outputs": [],
   "source": []
  }
 ],
 "metadata": {
  "kernelspec": {
   "display_name": "Python 3",
   "language": "python",
   "name": "python3"
  },
  "language_info": {
   "codemirror_mode": {
    "name": "ipython",
    "version": 3
   },
   "file_extension": ".py",
   "mimetype": "text/x-python",
   "name": "python",
   "nbconvert_exporter": "python",
   "pygments_lexer": "ipython3",
   "version": "3.6.5"
  }
 },
 "nbformat": 4,
 "nbformat_minor": 2
}
